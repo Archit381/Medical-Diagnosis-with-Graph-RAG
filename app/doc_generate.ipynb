{
 "cells": [
  {
   "cell_type": "code",
   "execution_count": 21,
   "metadata": {},
   "outputs": [
    {
     "data": {
      "text/html": [
       "<div>\n",
       "<style scoped>\n",
       "    .dataframe tbody tr th:only-of-type {\n",
       "        vertical-align: middle;\n",
       "    }\n",
       "\n",
       "    .dataframe tbody tr th {\n",
       "        vertical-align: top;\n",
       "    }\n",
       "\n",
       "    .dataframe thead th {\n",
       "        text-align: right;\n",
       "    }\n",
       "</style>\n",
       "<table border=\"1\" class=\"dataframe\">\n",
       "  <thead>\n",
       "    <tr style=\"text-align: right;\">\n",
       "      <th></th>\n",
       "      <th>Unnamed: 0</th>\n",
       "      <th>case_id</th>\n",
       "      <th>pmcid</th>\n",
       "      <th>gender</th>\n",
       "      <th>age</th>\n",
       "      <th>case_text</th>\n",
       "      <th>file_id</th>\n",
       "      <th>file_path</th>\n",
       "      <th>labels</th>\n",
       "      <th>caption</th>\n",
       "      <th>raw_image_link</th>\n",
       "      <th>license_x</th>\n",
       "      <th>doi</th>\n",
       "      <th>pmid</th>\n",
       "      <th>title</th>\n",
       "      <th>year</th>\n",
       "      <th>authors</th>\n",
       "      <th>journal</th>\n",
       "      <th>journal_detail</th>\n",
       "      <th>link</th>\n",
       "    </tr>\n",
       "  </thead>\n",
       "  <tbody>\n",
       "    <tr>\n",
       "      <th>0</th>\n",
       "      <td>0</td>\n",
       "      <td>PMC6381877_01</td>\n",
       "      <td>PMC6381877</td>\n",
       "      <td>Male</td>\n",
       "      <td>60.0</td>\n",
       "      <td>A 60-year-old male smoker presented with persi...</td>\n",
       "      <td>file_194350</td>\n",
       "      <td>dataset/chest_dataset/images/PMC6/PMC638/PMC63...</td>\n",
       "      <td>['Site', 'Imaging_Test', 'Site', 'Imaging_Test...</td>\n",
       "      <td>Chest X-ray and chest CT images before initial...</td>\n",
       "      <td>https://www.ncbi.nlm.nih.gov/pmc/articles/PMC6...</td>\n",
       "      <td>CC BY-NC</td>\n",
       "      <td>10.1159/000493088</td>\n",
       "      <td>30792648</td>\n",
       "      <td>Promising Combination Therapy with Bevacizumab...</td>\n",
       "      <td>2019</td>\n",
       "      <td>['Nobuhiko Seki', 'Maika Natsume', 'Ryosuke Oc...</td>\n",
       "      <td>Case Rep Oncol</td>\n",
       "      <td>2019 Jan 21;12(1):91-97.</td>\n",
       "      <td>https://pubmed.ncbi.nlm.nih.gov/30792648/</td>\n",
       "    </tr>\n",
       "  </tbody>\n",
       "</table>\n",
       "</div>"
      ],
      "text/plain": [
       "   Unnamed: 0        case_id       pmcid gender   age  \\\n",
       "0           0  PMC6381877_01  PMC6381877   Male  60.0   \n",
       "\n",
       "                                           case_text      file_id  \\\n",
       "0  A 60-year-old male smoker presented with persi...  file_194350   \n",
       "\n",
       "                                           file_path  \\\n",
       "0  dataset/chest_dataset/images/PMC6/PMC638/PMC63...   \n",
       "\n",
       "                                              labels  \\\n",
       "0  ['Site', 'Imaging_Test', 'Site', 'Imaging_Test...   \n",
       "\n",
       "                                             caption  \\\n",
       "0  Chest X-ray and chest CT images before initial...   \n",
       "\n",
       "                                      raw_image_link license_x  \\\n",
       "0  https://www.ncbi.nlm.nih.gov/pmc/articles/PMC6...  CC BY-NC   \n",
       "\n",
       "                 doi      pmid  \\\n",
       "0  10.1159/000493088  30792648   \n",
       "\n",
       "                                               title  year  \\\n",
       "0  Promising Combination Therapy with Bevacizumab...  2019   \n",
       "\n",
       "                                             authors         journal  \\\n",
       "0  ['Nobuhiko Seki', 'Maika Natsume', 'Ryosuke Oc...  Case Rep Oncol   \n",
       "\n",
       "             journal_detail                                       link  \n",
       "0  2019 Jan 21;12(1):91-97.  https://pubmed.ncbi.nlm.nih.gov/30792648/  "
      ]
     },
     "execution_count": 21,
     "metadata": {},
     "output_type": "execute_result"
    }
   ],
   "source": [
    "import pandas as pd\n",
    "\n",
    "data = pd.read_csv(\"../dataset/chest_dataset/chest.csv\")[:1]\n",
    "\n",
    "data.head()\n"
   ]
  },
  {
   "cell_type": "code",
   "execution_count": 24,
   "metadata": {},
   "outputs": [
    {
     "data": {
      "text/plain": [
       "'Chest X-ray and chest CT images before initial EGFR-TKI treatment. (a) Chest X-ray image showed a right hilar mass followed by lymphangitic carcinomatosis in the right lower lung field.'"
      ]
     },
     "execution_count": 24,
     "metadata": {},
     "output_type": "execute_result"
    }
   ],
   "source": [
    "data['caption'][0]"
   ]
  },
  {
   "cell_type": "code",
   "execution_count": 3,
   "metadata": {},
   "outputs": [
    {
     "name": "stderr",
     "output_type": "stream",
     "text": [
      "c:\\Users\\Archit\\Desktop\\medic\\.venv\\Lib\\site-packages\\sentence_transformers\\cross_encoder\\CrossEncoder.py:13: TqdmExperimentalWarning: Using `tqdm.autonotebook.tqdm` in notebook mode. Use `tqdm.tqdm` instead to force console mode (e.g. in jupyter console)\n",
      "  from tqdm.autonotebook import tqdm, trange\n",
      "c:\\Users\\Archit\\Desktop\\medic\\.venv\\Lib\\site-packages\\transformers\\tokenization_utils_base.py:1601: FutureWarning: `clean_up_tokenization_spaces` was not set. It will be set to `True` by default. This behavior will be depracted in transformers v4.45, and will be then set to `False` by default. For more details check this issue: https://github.com/huggingface/transformers/issues/31884\n",
      "  warnings.warn(\n"
     ]
    }
   ],
   "source": [
    "from PatientRAG import PatientRAG\n",
    "\n",
    "rag = PatientRAG(\n",
    "    file_name = \"10.1159@000493088.pdf\",\n",
    "    llm_id = \"Gemma2-9b-It\",\n",
    "    embed_model_id = \"sentence-transformers/all-mpnet-base-v2\",\n",
    "    clear_prev_graph = True,\n",
    "    node_label = \"Document\",\n",
    "    search = 'hybrid'\n",
    ")\n"
   ]
  },
  {
   "cell_type": "code",
   "execution_count": 4,
   "metadata": {},
   "outputs": [],
   "source": [
    "rag.compile_RAG()"
   ]
  },
  {
   "cell_type": "code",
   "execution_count": 27,
   "metadata": {},
   "outputs": [
    {
     "name": "stderr",
     "output_type": "stream",
     "text": [
      "Received notification from DBMS server: {severity: WARNING} {code: Neo.ClientNotification.Statement.FeatureDeprecationWarning} {category: DEPRECATION} {title: This feature is deprecated and will be removed in future versions.} {description: CALL subquery without a variable scope clause is now deprecated. Use CALL () { ... }} {position: line: 1, column: 1, offset: 0} for query: \"CALL { CALL db.index.vector.queryNodes($index, $k, $embedding) YIELD node, score WITH collect({node:node, score:score}) AS nodes, max(score) AS max UNWIND nodes AS n RETURN n.node AS node, (n.score / max) AS score UNION CALL db.index.fulltext.queryNodes($keyword_index, $query, {limit: $k}) YIELD node, score WITH collect({node:node, score:score}) AS nodes, max(score) AS max UNWIND nodes AS n RETURN n.node AS node, (n.score / max) AS score } WITH node, max(score) AS score ORDER BY score DESC LIMIT $k RETURN reduce(str='', k IN ['text'] | str + '\\\\n' + k + ': ' + coalesce(node[k], '')) AS text, node {.*, `embedding`: Null, id: Null, `text`: Null} AS metadata, score\"\n"
     ]
    },
    {
     "data": {
      "text/plain": [
       "\"The text provides descriptions of chest X-ray and CT images taken at various points during the patient's treatment.  \\n\\nHere's what the images suggest:\\n\\n* **Before EGFR-TKI treatment:** The patient had a large lung mass in the right lower lung that extended to the chest wall and vertebral body. There were also multiple enlarged lymph nodes and a pleural effusion (fluid around the lungs).\\n* **After 28 days of gefitinib therapy:** The lung mass and lymphangitic carcinomatosis (cancer spread in the lung's air passages) had worsened.\\n* **After 21 days of combination therapy (bevacizumab and erlotinib):** The lung mass and lymphadenopathy had decreased in size, suggesting a positive response to the combination therapy. There was also cavitation (a hollow area) in the lung mass, which is a specific response to bevacizumab. \\n\\n\\nLet me know if you have any other questions about the case report. \\n\""
      ]
     },
     "execution_count": 27,
     "metadata": {},
     "output_type": "execute_result"
    }
   ],
   "source": [
    "res = rag.query_db(query=\"What do the chest or mri scans suggest ?\")\n",
    "\n",
    "res"
   ]
  },
  {
   "cell_type": "code",
   "execution_count": null,
   "metadata": {},
   "outputs": [],
   "source": []
  },
  {
   "cell_type": "code",
   "execution_count": null,
   "metadata": {},
   "outputs": [],
   "source": []
  }
 ],
 "metadata": {
  "kernelspec": {
   "display_name": ".venv",
   "language": "python",
   "name": "python3"
  },
  "language_info": {
   "codemirror_mode": {
    "name": "ipython",
    "version": 3
   },
   "file_extension": ".py",
   "mimetype": "text/x-python",
   "name": "python",
   "nbconvert_exporter": "python",
   "pygments_lexer": "ipython3",
   "version": "3.11.4"
  }
 },
 "nbformat": 4,
 "nbformat_minor": 2
}
