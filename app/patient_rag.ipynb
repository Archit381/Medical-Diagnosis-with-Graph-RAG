{
 "cells": [
  {
   "cell_type": "code",
   "execution_count": 135,
   "metadata": {},
   "outputs": [
    {
     "data": {
      "text/plain": [
       "ChatGroq(client=<groq.resources.chat.completions.Completions object at 0x000001FBC4D8E990>, async_client=<groq.resources.chat.completions.AsyncCompletions object at 0x000001FBC4D98810>, model_name='Gemma2-9b-It', model_kwargs={}, groq_api_key=SecretStr('**********'))"
      ]
     },
     "execution_count": 135,
     "metadata": {},
     "output_type": "execute_result"
    }
   ],
   "source": [
    "from langchain_groq import ChatGroq\n",
    "import os\n",
    "from dotenv import load_dotenv\n",
    "\n",
    "load_dotenv()\n",
    "\n",
    "llm = ChatGroq(groq_api_key = os.getenv('groq_api'), model_name=\"Gemma2-9b-It\")\n",
    "\n",
    "llm"
   ]
  },
  {
   "cell_type": "code",
   "execution_count": 29,
   "metadata": {},
   "outputs": [
    {
     "data": {
      "text/plain": [
       "Document(metadata={'source': '../dataset/final_data/10.1159@000493088.pdf', 'page': 0}, page_content='Case Rep Oncol 2019;12:91 –97 \\nDOI: 10.1159/000493088  \\nPublished online: January 21, 2019  © 2019 The Author(s)  \\nPublished by S. Karger AG, Basel  \\nwww.karger.com/cro  \\nThis article is licensed under the Creative Commons Attribution -NonCommercial 4.0 \\nInternational License (CC BY -NC) (http://www.karger.com/Services/OpenAccessLicense). \\nUsage and distribution for commercial purposes requires written permission.  \\n \\n \\n           \\n  Nobuhiko Seki, MD, PhD  \\nDivision of Medical Oncology, Department of Internal Medicine  \\nTeikyo University School of Medicine, 2 –11–1, Kaga  \\nTokyo 173 –8606 (Japan)  \\nE-Mail nseki@med.teikyo -u.ac.jp  \\n \\n  \\nCase Report  \\n \\nPromising Combination Therapy \\nwith Bevacizumab and Erlotinib in \\nan EGFR -Mutated NSCLC Patient \\nwith MET Amplification Who \\nShowed Intrinsic Resistance to Initial \\nEGFR -TKI Therapy  \\nNobuhiko  Seki    Maika  Natsume    Ryosuke  Ochiai    Terunobu  Haruyama    \\nMasashi  Ishihara    Yoko  Fukasawa    Takahiko  Sakamoto    \\nShigeru  Tanzawa    Ryo  Usui    Takeshi  Honda    Shuji  Ota    \\nYasuko  Ichikawa    Kiyotaka  Watanabe     \\nDivision of Medical Oncology, Department of Internal Medicine, Teikyo University School \\nof Medicine, Tokyo,  Japan  \\nKeywords  \\nLung cancer · EGFR mutation · MET amplification · Erlotinib · Bevacizumab  \\nAbstract  \\nIn lung cancer, several potential mechanisms of intrinsic and  acquired resistance to epidermal \\ngrowth factor receptor (EGFR) tyrosine kinase inhibitors (TKIs) have been explored, including \\nmesenchymal -epithelial transition factor (MET) signaling pathway activation. On the other \\nhand, vascular endothelial growth fact or (VEGF) production of EGFR -mutated lung cancer cells \\nis stimulated by predominantly activated MET signaling pathway. Therefore, the inhibition of \\nVEGF axis as the downstream target of MET signaling pathway seems promising. Here, for the \\nfirst time, we re port the potential efficacy of combination therapy with bevacizumab and erlo-\\ntinib in an EGFR -mutated NSCLC patient with MET amplification who showed intrinsic re-\\nsistance to initial EGFR -TKI therapy. The patient was a 60 -year-old male smoker, showing per-\\nformance status (PS) 2, who presented with stage IV lung adenocarcinoma (cT4N2M1a)')"
      ]
     },
     "execution_count": 29,
     "metadata": {},
     "output_type": "execute_result"
    }
   ],
   "source": [
    "from langchain_community.document_loaders import PyPDFLoader\n",
    "\n",
    "file_path = (\n",
    "    \"../dataset/final_data/10.1159@000493088.pdf\"\n",
    ")\n",
    "\n",
    "loader = PyPDFLoader(file_path)\n",
    "pages = loader.load_and_split()\n",
    "\n",
    "pages[0]"
   ]
  },
  {
   "cell_type": "code",
   "execution_count": 52,
   "metadata": {},
   "outputs": [
    {
     "name": "stderr",
     "output_type": "stream",
     "text": [
      "Failed to write data to connection ResolvedIPv4Address(('34.126.114.186', 7687)) (ResolvedIPv4Address(('34.126.114.186', 7687)))\n",
      "Failed to write data to connection IPv4Address(('c43e8dee.databases.neo4j.io', 7687)) (ResolvedIPv4Address(('34.126.114.186', 7687)))\n"
     ]
    },
    {
     "data": {
      "text/plain": [
       "[GraphDocument(nodes=[Node(id='Nobuhiko Seki', type='Person', properties={}), Node(id='Maika Natsume', type='Person', properties={}), Node(id='Ryosuke Ochiai', type='Person', properties={}), Node(id='Terunobu Haruyama', type='Person', properties={}), Node(id='Masashi Ishihara', type='Person', properties={}), Node(id='Yoko Fukasawa', type='Person', properties={}), Node(id='Takahiko Sakamoto', type='Person', properties={}), Node(id='Shigeru Tanzawa', type='Person', properties={}), Node(id='Ryo Usui', type='Person', properties={}), Node(id='Takeshi Honda', type='Person', properties={}), Node(id='Shuji Ota', type='Person', properties={}), Node(id='Yasuko Ichikawa', type='Person', properties={}), Node(id='Kiyotaka Watanabe', type='Person', properties={}), Node(id='Division Of Medical Oncology, Department Of Internal Medicine, Teikyo University School Of Medicine', type='Organization', properties={}), Node(id='Egfr', type='Gene', properties={}), Node(id='Met', type='Gene', properties={}), Node(id='Vegf', type='Gene', properties={}), Node(id='Erlotinib', type='Drug', properties={}), Node(id='Bevacizumab', type='Drug', properties={}), Node(id='Lung Adenocarcinoma', type='Disease', properties={}), Node(id='Nsclc', type='Disease', properties={}), Node(id='Egfr Mutation', type='Mutation', properties={}), Node(id='Met Amplification', type='Mutation', properties={})], relationships=[Relationship(source=Node(id='Nobuhiko Seki', type='Person', properties={}), target=Node(id='Division Of Medical Oncology, Department Of Internal Medicine, Teikyo University School Of Medicine', type='Organization', properties={}), type='WORKS_AT', properties={}), Relationship(source=Node(id='Maika Natsume', type='Person', properties={}), target=Node(id='Division Of Medical Oncology, Department Of Internal Medicine, Teikyo University School Of Medicine', type='Organization', properties={}), type='WORKS_AT', properties={}), Relationship(source=Node(id='Ryosuke Ochiai', type='Person', properties={}), target=Node(id='Division Of Medical Oncology, Department Of Internal Medicine, Teikyo University School Of Medicine', type='Organization', properties={}), type='WORKS_AT', properties={}), Relationship(source=Node(id='Terunobu Haruyama', type='Person', properties={}), target=Node(id='Division Of Medical Oncology, Department Of Internal Medicine, Teikyo University School Of Medicine', type='Organization', properties={}), type='WORKS_AT', properties={}), Relationship(source=Node(id='Masashi Ishihara', type='Person', properties={}), target=Node(id='Division Of Medical Oncology, Department Of Internal Medicine, Teikyo University School Of Medicine', type='Organization', properties={}), type='WORKS_AT', properties={}), Relationship(source=Node(id='Yoko Fukasawa', type='Person', properties={}), target=Node(id='Division Of Medical Oncology, Department Of Internal Medicine, Teikyo University School Of Medicine', type='Organization', properties={}), type='WORKS_AT', properties={}), Relationship(source=Node(id='Takahiko Sakamoto', type='Person', properties={}), target=Node(id='Division Of Medical Oncology, Department Of Internal Medicine, Teikyo University School Of Medicine', type='Organization', properties={}), type='WORKS_AT', properties={}), Relationship(source=Node(id='Shigeru Tanzawa', type='Person', properties={}), target=Node(id='Division Of Medical Oncology, Department Of Internal Medicine, Teikyo University School Of Medicine', type='Organization', properties={}), type='WORKS_AT', properties={}), Relationship(source=Node(id='Ryo Usui', type='Person', properties={}), target=Node(id='Division Of Medical Oncology, Department Of Internal Medicine, Teikyo University School Of Medicine', type='Organization', properties={}), type='WORKS_AT', properties={}), Relationship(source=Node(id='Takeshi Honda', type='Person', properties={}), target=Node(id='Division Of Medical Oncology, Department Of Internal Medicine, Teikyo University School Of Medicine', type='Organization', properties={}), type='WORKS_AT', properties={}), Relationship(source=Node(id='Shuji Ota', type='Person', properties={}), target=Node(id='Division Of Medical Oncology, Department Of Internal Medicine, Teikyo University School Of Medicine', type='Organization', properties={}), type='WORKS_AT', properties={}), Relationship(source=Node(id='Yasuko Ichikawa', type='Person', properties={}), target=Node(id='Division Of Medical Oncology, Department Of Internal Medicine, Teikyo University School Of Medicine', type='Organization', properties={}), type='WORKS_AT', properties={}), Relationship(source=Node(id='Kiyotaka Watanabe', type='Person', properties={}), target=Node(id='Division Of Medical Oncology, Department Of Internal Medicine, Teikyo University School Of Medicine', type='Organization', properties={}), type='WORKS_AT', properties={})], source=Document(metadata={'source': '../dataset/final_data/10.1159@000493088.pdf', 'page': 0}, page_content='Case Rep Oncol 2019;12:91 –97 \\nDOI: 10.1159/000493088  \\nPublished online: January 21, 2019  © 2019 The Author(s)  \\nPublished by S. Karger AG, Basel  \\nwww.karger.com/cro  \\nThis article is licensed under the Creative Commons Attribution -NonCommercial 4.0 \\nInternational License (CC BY -NC) (http://www.karger.com/Services/OpenAccessLicense). \\nUsage and distribution for commercial purposes requires written permission.  \\n \\n \\n           \\n  Nobuhiko Seki, MD, PhD  \\nDivision of Medical Oncology, Department of Internal Medicine  \\nTeikyo University School of Medicine, 2 –11–1, Kaga  \\nTokyo 173 –8606 (Japan)  \\nE-Mail nseki@med.teikyo -u.ac.jp  \\n \\n  \\nCase Report  \\n \\nPromising Combination Therapy \\nwith Bevacizumab and Erlotinib in \\nan EGFR -Mutated NSCLC Patient \\nwith MET Amplification Who \\nShowed Intrinsic Resistance to Initial \\nEGFR -TKI Therapy  \\nNobuhiko  Seki    Maika  Natsume    Ryosuke  Ochiai    Terunobu  Haruyama    \\nMasashi  Ishihara    Yoko  Fukasawa    Takahiko  Sakamoto    \\nShigeru  Tanzawa    Ryo  Usui    Takeshi  Honda    Shuji  Ota    \\nYasuko  Ichikawa    Kiyotaka  Watanabe     \\nDivision of Medical Oncology, Department of Internal Medicine, Teikyo University School \\nof Medicine, Tokyo,  Japan  \\nKeywords  \\nLung cancer · EGFR mutation · MET amplification · Erlotinib · Bevacizumab  \\nAbstract  \\nIn lung cancer, several potential mechanisms of intrinsic and  acquired resistance to epidermal \\ngrowth factor receptor (EGFR) tyrosine kinase inhibitors (TKIs) have been explored, including \\nmesenchymal -epithelial transition factor (MET) signaling pathway activation. On the other \\nhand, vascular endothelial growth fact or (VEGF) production of EGFR -mutated lung cancer cells \\nis stimulated by predominantly activated MET signaling pathway. Therefore, the inhibition of \\nVEGF axis as the downstream target of MET signaling pathway seems promising. Here, for the \\nfirst time, we re port the potential efficacy of combination therapy with bevacizumab and erlo-\\ntinib in an EGFR -mutated NSCLC patient with MET amplification who showed intrinsic re-\\nsistance to initial EGFR -TKI therapy. The patient was a 60 -year-old male smoker, showing per-\\nformance status (PS) 2, who presented with stage IV lung adenocarcinoma (cT4N2M1a)')),\n",
       " GraphDocument(nodes=[Node(id='John Doe', type='Person', properties={}), Node(id='Gefitinib', type='Drug', properties={}), Node(id='Egfr Exon 19 Deletion Mutation', type='Genetic_mutation', properties={}), Node(id='Met Amplification', type='Genetic_alteration', properties={}), Node(id='Bevacizumab', type='Drug', properties={}), Node(id='Erlotinib', type='Drug', properties={}), Node(id='Lung Adenocarcinoma', type='Disease', properties={}), Node(id='Right Lung', type='Anatomical_structure', properties={}), Node(id='Chest Wall', type='Anatomical_structure', properties={}), Node(id='Vertebral Body', type='Anatomical_structure', properties={}), Node(id='Lymph Nodes', type='Anatomical_structure', properties={}), Node(id='Pleural Effusion', type='Medical_condition', properties={}), Node(id='Met Signaling Pathway', type='Biological_process', properties={})], relationships=[Relationship(source=Node(id='John Doe', type='Person', properties={}), target=Node(id='Lung Adenocarcinoma', type='Disease', properties={}), type='HAS', properties={}), Relationship(source=Node(id='John Doe', type='Person', properties={}), target=Node(id='Right Lung', type='Anatomical_structure', properties={}), type='AFFECTS', properties={}), Relationship(source=Node(id='John Doe', type='Person', properties={}), target=Node(id='Chest Wall', type='Anatomical_structure', properties={}), type='AFFECTS', properties={}), Relationship(source=Node(id='John Doe', type='Person', properties={}), target=Node(id='Vertebral Body', type='Anatomical_structure', properties={}), type='AFFECTS', properties={}), Relationship(source=Node(id='John Doe', type='Person', properties={}), target=Node(id='Lymph Nodes', type='Anatomical_structure', properties={}), type='AFFECTS', properties={}), Relationship(source=Node(id='John Doe', type='Person', properties={}), target=Node(id='Pleural Effusion', type='Medical_condition', properties={}), type='HAS', properties={}), Relationship(source=Node(id='Lung Adenocarcinoma', type='Disease', properties={}), target=Node(id='Egfr Exon 19 Deletion Mutation', type='Genetic_mutation', properties={}), type='HAS', properties={}), Relationship(source=Node(id='Lung Adenocarcinoma', type='Disease', properties={}), target=Node(id='Met Amplification', type='Genetic_alteration', properties={}), type='HAS', properties={}), Relationship(source=Node(id='John Doe', type='Person', properties={}), target=Node(id='Gefitinib', type='Drug', properties={}), type='TREATED_WITH', properties={}), Relationship(source=Node(id='John Doe', type='Person', properties={}), target=Node(id='Bevacizumab', type='Drug', properties={}), type='TREATED_WITH', properties={}), Relationship(source=Node(id='John Doe', type='Person', properties={}), target=Node(id='Erlotinib', type='Drug', properties={}), type='TREATED_WITH', properties={}), Relationship(source=Node(id='Met Amplification', type='Genetic_alteration', properties={}), target=Node(id='Met Signaling Pathway', type='Biological_process', properties={}), type='ACTIVATES', properties={})], source=Document(metadata={'source': '../dataset/final_data/10.1159@000493088.pdf', 'page': 1}, page_content='Case Rep Oncol 2019;12:91 –97 \\nDOI: 10.1159/000493088  © 2019 The Author(s). Published by S. Karger AG, Basel  \\nwww.karger.com/cro  \\nSeki et al.: Promising Combination Therapy with Bevacizumab and Erlotinib in an EGFR -\\nMutated NSCLC Patient with MET Amplification Who Showed Intrinsic Resistance to \\nInitial EGFR -TKI Therapy  \\n \\n \\n \\n \\n92 \\nharboring the EGFR exon 19 deletion mutation. He was started on gefitinib at 250 mg/day. \\nHowever, by 28 days, his symptoms further deteriorated along with the increased tumor s ize, \\nresulting in PS 3. Then, repeat biopsy was performed, showing the positive MET amplification \\nand the preserved EGFR exon 19 deletion mutation. Therefore, on the basis of the potential \\nefficacy for activated MET signaling pathway as well as the confirm ed safety by the known \\nphase II trial for EGFR -mutated patients, the patient was started on combination therapy with \\nbevacizumab at 15 mg/kg every 3 weeks plus erlotinib at 150 mg/day. By 21 days, his symp-\\ntoms gradually improved along with the decreased tu mor size, resulting in better PS with no \\nsevere toxicities.  © 2019 The Author(s)  \\n Published by S. Karger AG, Basel  \\nIntroduction  \\nSensitizing mutations in the epidermal growth factor receptor (EGFR) gene are associated \\nwith marked responses to EGFR tyrosine kinase inhibitors (TKIs), such as gefitinib, erlotinib, \\nand afatinib, in advanced non -small -cell lung cancer (NSCLC) patients [1]. However, up to 20% \\nof NSCLC patients show poor initial clinical response to EGFR -TKIs although t hey harbor a \\nsensitizing EGFR mutation [2]. These patients represent a subgroup that is intrinsically re-\\nsistant to EGFR -TKI treatment, and several potential mechanisms of intrinsic resistance to \\nEGFR -TKIs have been explored, inc luding mesenchymal -epithelial transition factor (MET) sig-\\nnaling pathway activation [2]. To date, several novel strategies have been developed to target \\nactivated MET signaling pathway [2]. However, ef ficacy of bevacizumab in combination with \\nerlotinib has not been reported in EGFR -mutated NSCLC patients with MET amplification who \\nshowed intrinsic resistance to initial EGFR -TKI therapy. Here, we report the promising effi-\\ncacy of combination therapy with bevacizumab and erlotinib to such a case.  \\nCase Report  \\nA 60 -year -old male smoker presented with persistent cough and severe right -back pain. \\nHis performance status (PS) was 2 by the pain despite opioid use in palliative care. In the im-\\naging test of full bod y, chest X -ray and chest CT revealed a large lung mass, extending to pos-\\nterior chest wall and vertebral body, surrounded by lymphangitic carcinomatosis in the right \\nlower lung as well as multiple lymphadenopathy and right pleural effusion (Fig. 1 a, b). Bron-\\nchoscopic biopsy of the tumor lead to a diagnosis of primary lung adenocarcinoma \\n(cT4N2M1a, stage IV) harboring the EGFR exon 19 deletion mutation. No other molecular \\nanalysis was performed. The patient was started on gefitinib a t 250 mg/day for the treatment \\nof lung adenocarcinoma. However, by 28 days after the start of gefitinib therapy, his symp-\\ntoms further deteriorated along with the increased tumor size, resulting in PS 3 (Fig. 2 a, b).  \\nThen, repeat b iopsy was performed from the lung tumor. First, in addition to the pre-\\nserved EGFR exon 19 deletion mutation, EGFR T790M mutation was analyzed, resulting in \\nnegative status. Second, as a possible molecular alteration next to EGFR T790M mutation, flu-\\norescenc e in situ hybridization (FISH) analysis for MET amplification was analyzed, resulting \\nin positive status (mean MET per cell = 6.7, MET/CEP7 [centromeric enumeration probe for \\nchromosome 7] ratio = 2.5). At this point, cytotoxic chemotherapy was not a candi date for \\ntreatment due to his poor PS. Furthermore, although crizotinib was known as potential MET \\ninhibitor as well as anaplastic lymphoma kinase (ALK) inhibitor, combination therapy with')),\n",
       " GraphDocument(nodes=[Node(id='Crizotinib', type='Drug', properties={}), Node(id='Met', type='Protein', properties={}), Node(id='Alk', type='Protein', properties={}), Node(id='Egfr-Tki', type='Drug', properties={})], relationships=[Relationship(source=Node(id='Crizotinib', type='Drug', properties={}), target=Node(id='Met', type='Protein', properties={}), type='INHIBITS', properties={}), Relationship(source=Node(id='Crizotinib', type='Drug', properties={}), target=Node(id='Alk', type='Protein', properties={}), type='INHIBITS', properties={}), Relationship(source=Node(id='Crizotinib', type='Drug', properties={}), target=Node(id='Egfr-Tki', type='Drug', properties={}), type='COMBINATION_THERAPY', properties={})], source=Document(metadata={'source': '../dataset/final_data/10.1159@000493088.pdf', 'page': 1}, page_content='treatment due to his poor PS. Furthermore, although crizotinib was known as potential MET \\ninhibitor as well as anaplastic lymphoma kinase (ALK) inhibitor, combination therapy with \\ncrizotinib and EGFR -TKI was considered to lack the evidences about safety. Therefore,')),\n",
       " GraphDocument(nodes=[Node(id='Seki Et Al.', type='Person', properties={}), Node(id='Patient', type='Person', properties={}), Node(id='Bevacizumab', type='Drug', properties={}), Node(id='Erlotinib', type='Drug', properties={}), Node(id='Egfr -Tki', type='Drug', properties={}), Node(id='Met Amplification', type='Genetic_alteration', properties={}), Node(id='Met', type='Protein', properties={}), Node(id='Vegf', type='Protein', properties={}), Node(id='Gab1', type='Protein', properties={}), Node(id='Nsclc', type='Disease', properties={}), Node(id='Jo25567', type='Clinical_trial', properties={})], relationships=[Relationship(source=Node(id='Seki Et Al.', type='Person', properties={}), target=Node(id='Patient', type='Person', properties={}), type='TREATED', properties={}), Relationship(source=Node(id='Patient', type='Person', properties={}), target=Node(id='Egfr -Tki', type='Drug', properties={}), type='RESISTANT_TO', properties={}), Relationship(source=Node(id='Patient', type='Person', properties={}), target=Node(id='Met Amplification', type='Genetic_alteration', properties={}), type='HAS', properties={}), Relationship(source=Node(id='Patient', type='Person', properties={}), target=Node(id='Bevacizumab', type='Drug', properties={}), type='TREATED_WITH', properties={}), Relationship(source=Node(id='Patient', type='Person', properties={}), target=Node(id='Erlotinib', type='Drug', properties={}), type='TREATED_WITH', properties={}), Relationship(source=Node(id='Met', type='Protein', properties={}), target=Node(id='Vegf', type='Protein', properties={}), type='REGULATES', properties={}), Relationship(source=Node(id='Egfr -Tki', type='Drug', properties={}), target=Node(id='Met', type='Protein', properties={}), type='INHIBITS', properties={}), Relationship(source=Node(id='Met', type='Protein', properties={}), target=Node(id='Gab1', type='Protein', properties={}), type='ACTIVATES', properties={}), Relationship(source=Node(id='Gab1', type='Protein', properties={}), target=Node(id='Vegf', type='Protein', properties={}), type='ACTIVATES', properties={})], source=Document(metadata={'source': '../dataset/final_data/10.1159@000493088.pdf', 'page': 2}, page_content='Case Rep Oncol 2019;12:91 –97 \\nDOI: 10.1159/000493088  © 2019 The Author(s). Published by S. Karger AG, Basel  \\nwww.karger.com/cro  \\nSeki et al.: Promising Combination Therapy with Bevacizumab and Erlotinib in an EGFR -\\nMutated NSCLC Patient with MET Amplification Who Showed Intrinsic Resistance to \\nInitial EGFR -TKI Therapy  \\n \\n \\n \\n \\n93 \\ncombination therapy with bevacizumab and erlotinib was selected on the basis of the poten-\\ntial efficacy for activated MET signaling pathway as well as the confirmed safety by the \\nJO25567 phase II clinical trial [3]. \\nThe patient was started on erlotinib at 150 mg/day plus bevacizumab at 15 mg/kg every \\n3 weeks. By 21 days after the start of this combination therapy, his symptoms gradually im-\\nproved along with the decreased tumor size, resulting in better PS with n o severe toxicities \\n(Fig. 3 a, b). However, after 2 cycles of bevacizumab administration, he unfortunately fractured \\nhis face from falling down during the rehabilitation to improve the deteriorated activity of \\ndaily life (ADL). Then, he underwent open reduction and fixation of his face fracture under \\ngeneral anesthesia. Eventually, he was forced to quit this promising combination therapy.  \\nDiscussion  \\nResistance to EGFR -TKIs includes intrinsic (primary) and acquired (secondary) re-\\nsistance. Intrinsic resistance is generally defined as a de novo inefficacy of EGFR -TKIs, \\nwhereas acquired resistance is generally defined as relapse of the tumor after a period of clin-\\nical response.  \\nRecently, valuable insights have been gained into the molecular mechanisms of acquired \\nresistance to EGFR -TKIs, including EGFR secondary mutations (e.g., T790M), phenotypic \\nchanges (e.g., small -cell lung cancer), and upregulation of bypass signaling pathwa ys [4]. \\nAmong bypass signaling pathways, MET amplification is a well -characterized genetic altera-\\ntion which drives erb -b2 receptor tyrosine kinase 3 –dependent activation of downstream \\nphosphoinositide 3 -kinase/protein kinase B s ignaling, bypassing the inhibited EGFR [4]. On \\nthe other hand, although little is known about EGFR -TKI intrinsic resistance, major molecular \\nmechanisms include EGFR T790M mutations, EGFR exon 20 insertions, BIM deletions, and \\nupregulation of bypass signaling pathways (e.g., HGF overexpression and MET amplification) \\n[2]. Acquired MET amplification accounts for approximately 5% to 10% of the resistant cases, \\nwhereas de novo MET amplification accounts f or approximately 3% of EGFR -mutated NSCLC \\npatients before treatment [5]. In our case, FISH analysis for MET amplification before EGFR -\\nTKI treatment was not performed. However, according to the clinically -remarkable de novo \\nresistance to initial EGFR -TKI, MET amplification seems to have existed as the intrinsic re-\\nsistant mechanism.  \\nPreclinical reports suggest that combined EGFR and MET inhibition is necessary to over-\\ncome resistance caused by concurrent MET amplification [6, 7, 8] . However, clinical reports \\nregarding successful combination of EGFR and MET inhibitors in EGFR -mutated/MET -ampli-\\nfied NSCLC patients are limited [9, 10] . Here, for the first time, we have reported th e potential \\nefficacy of combination therapy with bevacizumab and erlotinib in an EGFR -mutated NSCLC \\npatient with MET amplification who showed intrinsic resistance to initial EGFR -TKI therapy.  \\nRegarding the rationale of combining bevacizumab with erlotinib , bevacizumab is an anti -\\nangiogenic monoclonal antibody for vascular endothelial growth factor (VEGF), a key media-\\ntor of angiogenesis. VEGF production of EGFR -mutated lung cancer cells is stimulated by pre-\\ndominantly activating the MET/Gab1 axis, where Gab1  is known to be an important adaptor \\nprotein for MET signaling pathway [6]. Therefore, the inhibition of VEGF axis as the down-\\nstream target of MET signaling pathway seems promising. Actually, bevacizumab enhanced')),\n",
       " GraphDocument(nodes=[Node(id='Met Signaling Pathway', type='Pathway', properties={}), Node(id='Vegf Axis', type='Pathway', properties={}), Node(id='Egfr', type='Protein', properties={}), Node(id='Met', type='Protein', properties={}), Node(id='Bevacizumab', type='Drug', properties={}), Node(id='Erlotinib', type='Drug', properties={}), Node(id='Nsclc', type='Disease', properties={})], relationships=[Relationship(source=Node(id='Met Signaling Pathway', type='Pathway', properties={}), target=Node(id='Vegf Axis', type='Pathway', properties={}), type='REGULATES', properties={}), Relationship(source=Node(id='Bevacizumab', type='Drug', properties={}), target=Node(id='Vegf Axis', type='Pathway', properties={}), type='INHIBITS', properties={}), Relationship(source=Node(id='Erlotinib', type='Drug', properties={}), target=Node(id='Egfr', type='Protein', properties={}), type='INHIBITS', properties={}), Relationship(source=Node(id='Erlotinib', type='Drug', properties={}), target=Node(id='Met', type='Protein', properties={}), type='INHIBITS', properties={}), Relationship(source=Node(id='Bevacizumab', type='Drug', properties={}), target=Node(id='Erlotinib', type='Drug', properties={}), type='ENHANCES', properties={})], source=Document(metadata={'source': '../dataset/final_data/10.1159@000493088.pdf', 'page': 2}, page_content='protein for MET signaling pathway [6]. Therefore, the inhibition of VEGF axis as the down-\\nstream target of MET signaling pathway seems promising. Actually, bevacizumab enhanced \\nthe antitumor activity of erlotinib in EGFR -mutated/MET -amplified NSCLC xenograft models, \\nshowing that combination therapy with bevacizumab and erlotinib significantly inhibited the \\ntumor growth rate by approximately 50% compared with erlotinib alone [6, 7, 8] .')),\n",
       " GraphDocument(nodes=[Node(id='Seki', type='Person', properties={}), Node(id='Bevacizumab', type='Drug', properties={}), Node(id='Erlotinib', type='Drug', properties={}), Node(id='Egfr', type='Gene', properties={}), Node(id='Met', type='Gene', properties={}), Node(id='Nsclc', type='Disease', properties={}), Node(id='Asco', type='Organization', properties={}), Node(id='Tki', type='Therapy', properties={}), Node(id='Karger', type='Organization', properties={})], relationships=[Relationship(source=Node(id='Seki', type='Person', properties={}), target=Node(id='Nsclc', type='Disease', properties={}), type='TREATS', properties={}), Relationship(source=Node(id='Seki', type='Person', properties={}), target=Node(id='Bevacizumab', type='Drug', properties={}), type='RECEIVES_THERAPY', properties={}), Relationship(source=Node(id='Seki', type='Person', properties={}), target=Node(id='Erlotinib', type='Drug', properties={}), type='RECEIVES_THERAPY', properties={}), Relationship(source=Node(id='Nsclc', type='Disease', properties={}), target=Node(id='Egfr', type='Gene', properties={}), type='HAS_GENE', properties={}), Relationship(source=Node(id='Nsclc', type='Disease', properties={}), target=Node(id='Met', type='Gene', properties={}), type='HAS_GENE', properties={}), Relationship(source=Node(id='Egfr', type='Gene', properties={}), target=Node(id='Tki', type='Therapy', properties={}), type='TARGETED_BY', properties={}), Relationship(source=Node(id='Met', type='Gene', properties={}), target=Node(id='Tki', type='Therapy', properties={}), type='TARGETED_BY', properties={}), Relationship(source=Node(id='Bevacizumab', type='Drug', properties={}), target=Node(id='Nsclc', type='Disease', properties={}), type='TARGETS', properties={}), Relationship(source=Node(id='Erlotinib', type='Drug', properties={}), target=Node(id='Egfr', type='Gene', properties={}), type='TARGETS', properties={}), Relationship(source=Node(id='Asco', type='Organization', properties={}), target=Node(id='Study', type='Research', properties={}), type='HOSTS', properties={}), Relationship(source=Node(id='Karger', type='Organization', properties={}), target=Node(id='Case Rep Oncol', type='Journal', properties={}), type='PUBLISHES', properties={})], source=Document(metadata={'source': '../dataset/final_data/10.1159@000493088.pdf', 'page': 3}, page_content='Case Rep Oncol 2019;12:91 –97 \\nDOI: 10.1159/000493088  © 2019 The Author(s). Published by S. Karger AG, Basel  \\nwww.karger.com/cro  \\nSeki et al.: Promising Combination Therapy with Bevacizumab and Erlotinib in an EGFR -\\nMutated NSCLC Patient with MET Amplification Who Showed Intrinsic Resistance to \\nInitial EGFR -TKI Therapy  \\n \\n \\n \\n \\n94 \\nIn the clinical settings, the results of phase III study comparing bevacizumab plus erlotinib \\nwith erlotinib in patients with untreated NSCLC harboring a sensitizing EGFR mutation were \\npresented at 2018 ASCO Annual Meeting as median PF S of 16.9 months in bevacizumab plus \\nerlotinib arm and 13.3 months in erlotinib arm (HR 0.605, p = 0.0157) [11] . Furthermore, in \\nthis study, initial clinical response (some kind of shrinkage) was observed in all the patients \\ntreated with bevacizumab plus erlotinib. Therefore, this regimen is now considered as a new \\nstandard first -line treatment in EGFR -mutated NSCLC patients.  \\nIn conclusion, we have shown the promising combination therapy with bevacizumab and \\nerlotinib in an EGF R-mutated NSCLC patient with MET amplification who showed intrinsic \\nresistance to initial EGFR -TKI therapy.  \\nStatement of Ethics  \\nThe authors have no ethical conflicts to disclose.  \\nDisclosure Statement  \\nThe authors declare that they have no relevant financial  interests.  \\nReferences  \\n1 Nan X, Xie C, Yu X, Liu J. EGFR TKI as first -line treatment for patients with advanced EGFR mutation -positive \\nnon-small -cell lung cancer. Oncotarget . 2017 Aug;8(43):75712 –26. \\n2 Wang J, Wang B, Chu H, Yao Y. Intrinsic resistance to EGFR tyrosine kinase inhibitors in advanced non -small -\\ncell lung cancer with activating EGFR mutations. OncoTargets Ther . 2016 Jun;9:3711 –26. \\n3 Seto T, Kato T, Nishio M, Goto K, Atagi S, Hosomi Y, et al. Erlotinib alone or with bevacizumab as  first -line \\ntherapy in patients with advanced non -squamous non -small -cell lung cancer harbouring EGFR mutations \\n(JO25567): an open -label, randomised, multicentre, phase 2 study. Lancet Oncol . 2014 Oct;15(11):1236 –44. \\n4 Sequist LV, Waltman BA, Dias -Santagata D, Digumarthy S, Turke AB, Fidias P, et al. Genotypic and \\nhistological evolution of lung cancers acquiring resistance to EGFR inhibitor s. Sci Transl Med . 2011 \\nMar;3(75):75ra26.  \\n5 Bean J, Brennan C, Shih JY, Riely G, Viale A, Wang L, et al. MET amplification occurs with or  without T790M \\nmutations in EGFR mutant lung tumors with acquired resistance to gefitinib or erlotinib. Proc Natl Acad Sci \\nUSA . 2007 Dec;104(52):20932 –7. \\n6 Takeuchi S, Wang W, Li Q, Yamada T, Kita K, Donev IS, et al. Dual inhibition of Met kinase and angiogenesis to \\novercome HGF -induced EGFR -TKI resistance in EGFR mutant lung cancer. Am J Pathol . 2012 \\nSep;181(3):1034 –43. \\n7 Nakade J, Takeuchi S, Nakagawa T, Ishikawa D, Sano T, Nanjo S, et al. Triple inhibition of EGFR, Met, and \\nVEGF suppresses regrowth of HGF -triggered, e rlotinib -resistant lung cancer harboring an EGFR mutation. J \\nThorac Oncol . 2014 Jun;9(6):775 –83. \\n8 Furugaki K, Fukumura J, Iwai T, Yo rozu K, Kurasawa M, Yanagisawa M, et al. Impact of bevacizumab in \\ncombination with erlotinib on EGFR -mutated non -small cell lung cancer xenograft models with T790M \\nmutation or MET amplification. Int J Cancer . 2016 Feb;138(4):1024 –32. \\n9 Scheffler M, Merkelbach -Bruse S, Bos M, Fassunke J, Gardizi M, Michels S, et al. Spatial Tumor Heterogeneity \\nin Lung Cancer with Acquired Epidermal Growth Factor Receptor -Tyrosine Kinase Inhibitor Resistance: \\nTargeting High -Level MET -Amplification and EGFR T790M Mutation Occurring at Different Sites in the Same \\nPatient. J Thorac Oncol . 2015 Jun;10(6):e40 –3. \\n10 Gainor JF, Niederst MJ, Lennerz JK, Dagogo -Jack I, Stevens S, Shaw AT, et al. Dramatic Response to \\nCombinati on Erlotinib and Crizotinib in a Patient with Advanced, EGFR -Mutant Lung Cancer Harboring De \\nNovo MET Amplification. J Thorac Oncol . 2016 Jul;11(7):e83 –5.')),\n",
       " GraphDocument(nodes=[Node(id='Combination Erlotinib And Crizotinib In A Patient With Advanced, Egfr -Mutant Lung Cancer Harboring De Novo Met Amplification', type='Paper', properties={}), Node(id='J Thorac Oncol', type='Journal', properties={}), Node(id='2016 Jul;11(7)', type='Publication_date', properties={}), Node(id='E83 –5', type='Page_number', properties={}), Node(id='Furuya N', type='Person', properties={}), Node(id='Fukuhara T', type='Person', properties={}), Node(id='Saito H', type='Person', properties={}), Node(id='Et Al.', type='Group', properties={}), Node(id='Phase Iii Study Comparing Bevacizumab Plus Erlotinib To Erlotinib In Patients With Untreated Nsclc Harboring Activating Egfr Mutations: Nej026', type='Study', properties={}), Node(id='J Clin Oncol', type='Journal', properties={}), Node(id='2018', type='Publication_date', properties={}), Node(id='36 (Suppl; Abstr 90006)', type='Publication_date', properties={})], relationships=[Relationship(source=Node(id='Combination Erlotinib And Crizotinib In A Patient With Advanced, Egfr -Mutant Lung Cancer Harboring De Novo Met Amplification', type='Paper', properties={}), target=Node(id='J Thorac Oncol', type='Journal', properties={}), type='PUBLISHED_IN', properties={}), Relationship(source=Node(id='Combination Erlotinib And Crizotinib In A Patient With Advanced, Egfr -Mutant Lung Cancer Harboring De Novo Met Amplification', type='Paper', properties={}), target=Node(id='2016 Jul;11(7)', type='Publication_date', properties={}), type='PUBLISHED_DATE', properties={}), Relationship(source=Node(id='Combination Erlotinib And Crizotinib In A Patient With Advanced, Egfr -Mutant Lung Cancer Harboring De Novo Met Amplification', type='Paper', properties={}), target=Node(id='E83 –5', type='Page_number', properties={}), type='PAGE_RANGE', properties={}), Relationship(source=Node(id='Phase Iii Study Comparing Bevacizumab Plus Erlotinib To Erlotinib In Patients With Untreated Nsclc Harboring Activating Egfr Mutations: Nej026', type='Study', properties={}), target=Node(id='J Clin Oncol', type='Journal', properties={}), type='PUBLISHED_IN', properties={}), Relationship(source=Node(id='Phase Iii Study Comparing Bevacizumab Plus Erlotinib To Erlotinib In Patients With Untreated Nsclc Harboring Activating Egfr Mutations: Nej026', type='Study', properties={}), target=Node(id='2018', type='Publication_date', properties={}), type='PUBLISHED_DATE', properties={}), Relationship(source=Node(id='Phase Iii Study Comparing Bevacizumab Plus Erlotinib To Erlotinib In Patients With Untreated Nsclc Harboring Activating Egfr Mutations: Nej026', type='Study', properties={}), target=Node(id='36 (Suppl; Abstr 90006)', type='Publication_date', properties={}), type='PUBLISHED_DATE', properties={})], source=Document(metadata={'source': '../dataset/final_data/10.1159@000493088.pdf', 'page': 3}, page_content='Combinati on Erlotinib and Crizotinib in a Patient with Advanced, EGFR -Mutant Lung Cancer Harboring De \\nNovo MET Amplification. J Thorac Oncol . 2016 Jul;11(7):e83 –5. \\n11 Furuya N, Fukuhara T, Saito H, et al. Phase III study comparing bevacizumab plus erlotinib to erlotinib in \\npatients with untreated NSCLC harboring activating EGFR mutations: NEJ026. J Clin Oncol. 2018; 36 (suppl; \\nabstr 9006).')),\n",
       " GraphDocument(nodes=[Node(id='Seki Et Al.', type='Person', properties={}), Node(id='Bevacizumab', type='Drug', properties={}), Node(id='Erlotinib', type='Drug', properties={}), Node(id='Egfr', type='Gene', properties={}), Node(id='Nsclc', type='Disease', properties={}), Node(id='Met', type='Gene', properties={}), Node(id='Tki', type='Drug', properties={}), Node(id='Case Rep Oncol', type='Journal', properties={}), Node(id='Right Hilar Mass', type='Anatomical_structure', properties={}), Node(id='Lymphangitic Carcinomatosis', type='Disease_process', properties={}), Node(id='Right Lower Lung Field', type='Anatomical_structure', properties={}), Node(id='Chest Wall', type='Anatomical_structure', properties={}), Node(id='Vertebral Body', type='Anatomical_structure', properties={}), Node(id='Multiple Lymphadenopathy', type='Disease_process', properties={}), Node(id='Right Pleural Effusion', type='Disease_process', properties={})], relationships=[Relationship(source=Node(id='Seki Et Al.', type='Person', properties={}), target=Node(id='Case Rep Oncol', type='Journal', properties={}), type='AUTHORED', properties={}), Relationship(source=Node(id='Egfr', type='Gene', properties={}), target=Node(id='Nsclc', type='Disease', properties={}), type='ASSOCIATED_WITH', properties={}), Relationship(source=Node(id='Egfr', type='Gene', properties={}), target=Node(id='Tki', type='Drug', properties={}), type='TARGET_OF', properties={}), Relationship(source=Node(id='Met', type='Gene', properties={}), target=Node(id='Nsclc', type='Disease', properties={}), type='ASSOCIATED_WITH', properties={}), Relationship(source=Node(id='Bevacizumab', type='Drug', properties={}), target=Node(id='Nsclc', type='Disease', properties={}), type='TREATMENT_FOR', properties={}), Relationship(source=Node(id='Erlotinib', type='Drug', properties={}), target=Node(id='Nsclc', type='Disease', properties={}), type='TREATMENT_FOR', properties={})], source=Document(metadata={'source': '../dataset/final_data/10.1159@000493088.pdf', 'page': 4}, page_content='Case Rep Oncol 2019;12:91 –97 \\nDOI: 10.1159/000493088  © 2019 The Author(s). Published by S. Karger AG, Basel  \\nwww.karger.com/cro  \\nSeki et al.: Promising Combination Therapy with Bevacizumab and Erlotinib in an EGFR -\\nMutated NSCLC Patient with MET Amplification Who Showed Intrinsic Resistance to \\nInitial EGFR -TKI Therapy  \\n \\n \\n \\n \\n95 \\n \\n \\n \\nFig. 1.  Chest X -ray and chest CT images before initial EGFR -TKI treatment. ( a) Chest X -ray image showed a \\nright hilar mass followed by lymphangitic carcinomatosis in the right lower lung field. ( b) Chest CT image \\nshowed a large lung mass, extending to posterior chest wall and vertebral body, in the right lower lung as \\nwell as multiple lymphadenopathy and right pleural effusion.')),\n",
       " GraphDocument(nodes=[Node(id='Seki', type='Person', properties={}), Node(id='Gefitinib', type='Drug', properties={}), Node(id='Egfr', type='Gene', properties={}), Node(id='Met', type='Gene', properties={}), Node(id='Bevacizumab', type='Drug', properties={}), Node(id='Erlotinib', type='Drug', properties={}), Node(id='Nsclc', type='Disease', properties={}), Node(id='Lung Mass', type='Anatomical_structure', properties={}), Node(id='Lymphangitic Carcinomatosis', type='Disease', properties={}), Node(id='Lymphadenopathy', type='Disease', properties={})], relationships=[Relationship(source=Node(id='Seki', type='Person', properties={}), target=Node(id='Gefitinib', type='Drug', properties={}), type='TREATED_WITH', properties={}), Relationship(source=Node(id='Gefitinib', type='Drug', properties={}), target=Node(id='Egfr', type='Gene', properties={}), type='TARGETS', properties={}), Relationship(source=Node(id='Nsclc', type='Disease', properties={}), target=Node(id='Lung Mass', type='Anatomical_structure', properties={}), type='AFFECTS', properties={}), Relationship(source=Node(id='Nsclc', type='Disease', properties={}), target=Node(id='Lymphangitic Carcinomatosis', type='Disease', properties={}), type='CAUSES', properties={}), Relationship(source=Node(id='Nsclc', type='Disease', properties={}), target=Node(id='Lymphadenopathy', type='Disease', properties={}), type='CAUSES', properties={})], source=Document(metadata={'source': '../dataset/final_data/10.1159@000493088.pdf', 'page': 5}, page_content='Case Rep Oncol 2019;12:91 –97 \\nDOI: 10.1159/000493088  © 2019 The Author(s). Published by S. Karger AG, Basel  \\nwww.karger.com/cro  \\nSeki et al.: Promising Combination Therapy with Bevacizumab and Erlotinib in an EGFR -\\nMutated NSCLC Patient with MET Amplification Who Showed Intrinsic Resistance to \\nInitial EGFR -TKI Therapy  \\n \\n \\n \\n \\n96 \\n \\nFig. 2.  Chest X -ray and chest CT images after 28 days of gefi tinib therapy. ( a) Chest X -ray image showed the \\nincreased right hilar mass and the worsened lymphangitic carcinomatosis. ( b) Chest CT image showed in-\\nterval progression of the lung mass and the lymphadenopathy.')),\n",
       " GraphDocument(nodes=[Node(id='Seki Et Al.', type='Person', properties={}), Node(id='Bevacizumab', type='Drug', properties={}), Node(id='Erlotinib', type='Drug', properties={}), Node(id='Egfr - Mutated Nsclc Patient', type='Patient', properties={}), Node(id='Met Amplification', type='Biological_feature', properties={}), Node(id='Egfr -Tki Therapy', type='Therapy', properties={}), Node(id='Right Hilar Mass', type='Anatomical_structure', properties={}), Node(id='Lymphangitic Carcinomatosis', type='Disease', properties={}), Node(id='Lung Mass', type='Anatomical_structure', properties={}), Node(id='Lymphadenopathy', type='Disease', properties={}), Node(id='Cavitation', type='Diagnostic_finding', properties={})], relationships=[Relationship(source=Node(id='Seki Et Al.', type='Person', properties={}), target=Node(id='Egfr - Mutated Nsclc Patient', type='Patient', properties={}), type='TREATED', properties={}), Relationship(source=Node(id='Egfr - Mutated Nsclc Patient', type='Patient', properties={}), target=Node(id='Met Amplification', type='Biological_feature', properties={}), type='HAS_FEATURE', properties={}), Relationship(source=Node(id='Egfr - Mutated Nsclc Patient', type='Patient', properties={}), target=Node(id='Egfr -Tki Therapy', type='Therapy', properties={}), type='RECEIVED', properties={}), Relationship(source=Node(id='Egfr - Mutated Nsclc Patient', type='Patient', properties={}), target=Node(id='Bevacizumab', type='Drug', properties={}), type='RECEIVED', properties={}), Relationship(source=Node(id='Egfr - Mutated Nsclc Patient', type='Patient', properties={}), target=Node(id='Erlotinib', type='Drug', properties={}), type='RECEIVED', properties={}), Relationship(source=Node(id='Egfr - Mutated Nsclc Patient', type='Patient', properties={}), target=Node(id='Right Hilar Mass', type='Anatomical_structure', properties={}), type='AFFECTED_BY', properties={}), Relationship(source=Node(id='Egfr - Mutated Nsclc Patient', type='Patient', properties={}), target=Node(id='Lymphangitic Carcinomatosis', type='Disease', properties={}), type='AFFECTED_BY', properties={}), Relationship(source=Node(id='Egfr - Mutated Nsclc Patient', type='Patient', properties={}), target=Node(id='Lung Mass', type='Anatomical_structure', properties={}), type='AFFECTED_BY', properties={}), Relationship(source=Node(id='Egfr - Mutated Nsclc Patient', type='Patient', properties={}), target=Node(id='Lymphadenopathy', type='Disease', properties={}), type='AFFECTED_BY', properties={})], source=Document(metadata={'source': '../dataset/final_data/10.1159@000493088.pdf', 'page': 6}, page_content='Case Rep Oncol 2019;12:91 –97 \\nDOI: 10.1159/000493088  © 2019 The Author(s). Published by S. Karger AG, Basel  \\nwww.karger.com/cro  \\nSeki et al.: Promising Combination Therapy with Bevacizumab and Erlotinib in an EGFR -\\nMutated NSCLC Patient with MET Amplification Who Showed Intrinsic Resistance to \\nInitial EGFR -TKI Therapy  \\n \\n \\n \\n \\n97 \\n \\nFig. 3.  Chest X -ray and chest CT images after 21 days of combination therapy with bevacizumab and erlo-\\ntinib. ( a) Chest X -ray image showed the decreased right hilar mass and the improved lymphangitic carci-\\nnomatosis. ( b) Chest CT image showed interval response of the lung mass and the lymphadenopathy. Es-\\npecially, cavitation of the lung mass as bevacizumab -specific response  was observed.'))]"
      ]
     },
     "execution_count": 52,
     "metadata": {},
     "output_type": "execute_result"
    }
   ],
   "source": [
    "from langchain_experimental.graph_transformers import LLMGraphTransformer\n",
    "\n",
    "llm_transformer = LLMGraphTransformer(llm=llm)\n",
    "\n",
    "graph_docs = llm_transformer.convert_to_graph_documents(pages)\n",
    "\n",
    "graph_docs"
   ]
  },
  {
   "cell_type": "code",
   "execution_count": 43,
   "metadata": {},
   "outputs": [
    {
     "name": "stderr",
     "output_type": "stream",
     "text": [
      "c:\\Users\\Archit\\Desktop\\medic\\.venv\\Lib\\site-packages\\transformers\\tokenization_utils_base.py:1601: FutureWarning: `clean_up_tokenization_spaces` was not set. It will be set to `True` by default. This behavior will be depracted in transformers v4.45, and will be then set to `False` by default. For more details check this issue: https://github.com/huggingface/transformers/issues/31884\n",
      "  warnings.warn(\n"
     ]
    }
   ],
   "source": [
    "from langchain_huggingface import HuggingFaceEmbeddings\n",
    "\n",
    "embeddings_model = HuggingFaceEmbeddings(model_name=\"sentence-transformers/all-mpnet-base-v2\")"
   ]
  },
  {
   "cell_type": "code",
   "execution_count": 136,
   "metadata": {},
   "outputs": [],
   "source": [
    "from langchain.graphs import Neo4jGraph\n",
    "\n",
    "graph = Neo4jGraph()\n",
    "\n",
    "graph.add_graph_documents(\n",
    "    graph_docs,\n",
    "    baseEntityLabel=True,\n",
    "    include_source=True\n",
    ")"
   ]
  },
  {
   "cell_type": "code",
   "execution_count": 137,
   "metadata": {},
   "outputs": [
    {
     "data": {
      "application/vnd.jupyter.widget-view+json": {
       "model_id": "f5f0b44761a2400fb6cfe4e31867ffa0",
       "version_major": 2,
       "version_minor": 0
      },
      "text/plain": [
       "GraphWidget(layout=Layout(height='800px', width='100%'))"
      ]
     },
     "metadata": {},
     "output_type": "display_data"
    }
   ],
   "source": [
    "from neo4j import GraphDatabase\n",
    "from yfiles_jupyter_graphs import GraphWidget\n",
    "\n",
    "default_cypher = \"MATCH (s)-[r:!MENTIONS]->(t) RETURN s,r,t LIMIT 50\"\n",
    "def showGraph(cypher: str = default_cypher):\n",
    "    driver = GraphDatabase.driver(\n",
    "        uri = os.environ[\"NEO4J_URI\"],\n",
    "        auth = (os.environ[\"NEO4J_USERNAME\"], os.environ[\"NEO4J_PASSWORD\"])\n",
    "    )\n",
    "    session = driver.session()\n",
    "    widget = GraphWidget(graph = session.run(cypher).graph())\n",
    "    widget.node_label_mapping = 'id'\n",
    "    return widget\n",
    "\n",
    "showGraph()"
   ]
  },
  {
   "cell_type": "code",
   "execution_count": 138,
   "metadata": {},
   "outputs": [],
   "source": [
    "from langchain_core.prompts.prompt import PromptTemplate\n",
    "from langchain.chains import GraphCypherQAChain\n",
    "\n",
    "CYPHER_GENERATION_TEMPLATE = \"\"\"Task: Generate Cypher statement to query a graph database.\n",
    "...\n",
    "\"\"\"\n",
    "CYPHER_GENERATION_PROMPT = PromptTemplate(\n",
    "    input_variables=[\"schema\", \"question\"], template=CYPHER_GENERATION_TEMPLATE\n",
    ")\n",
    "\n",
    "CYPHER_QA_TEMPLATE = \"\"\"You are an assistant that helps to form nice and human understandable answers.\n",
    "...\n",
    "\"\"\"\n",
    "CYPHER_QA_PROMPT = PromptTemplate(\n",
    "    input_variables=[\"context\", \"question\"], template=CYPHER_QA_TEMPLATE\n",
    ")\n",
    "\n",
    "graph_chain = GraphCypherQAChain.from_llm(\n",
    "    llm,\n",
    "    graph = graph,\n",
    "    cypher_prompt = CYPHER_GENERATION_PROMPT,\n",
    "    qa_prompt=CYPHER_QA_PROMPT,\n",
    "    verbose=True,\n",
    "    allow_dangerous_requests = True\n",
    ")"
   ]
  },
  {
   "cell_type": "code",
   "execution_count": 141,
   "metadata": {},
   "outputs": [],
   "source": [
    "store = Neo4jVector.from_existing_graph(\n",
    "    embeddings_model,\n",
    "    search_type = 'hybrid',\n",
    "    node_label = 'Document',\n",
    "    text_node_properties=['text'],\n",
    "    embedding_node_property='embedding'\n",
    ")\n"
   ]
  },
  {
   "cell_type": "code",
   "execution_count": 142,
   "metadata": {},
   "outputs": [],
   "source": [
    "def retriever(question: str):\n",
    "    print(f\"Search query: {question}\")\n",
    "    structured_data = graph_chain.run(question)\n",
    "    unstructured_data = [el.page_content for el in store.similarity_search(question)]\n",
    "    final_data = f\"\"\"Structured data:\n",
    "{structured_data}\n",
    "Unstructured data:\n",
    "{\"#Document \". join(unstructured_data)}\n",
    "    \"\"\"\n",
    "    print(f\"Final context: {final_data}\")\n",
    "    return final_data"
   ]
  },
  {
   "cell_type": "code",
   "execution_count": 143,
   "metadata": {},
   "outputs": [],
   "source": [
    "from langchain_core.runnables import RunnablePassthrough\n",
    "from langchain.prompts import ChatPromptTemplate\n",
    "from langchain.output_parsers import StructuredOutputParser\n",
    "from langchain.retrievers.multi_vector import MultiVectorRetriever\n",
    "\n",
    "\n",
    "template = \"\"\"Answer the question based only on the following context:\n",
    "\n",
    "{context}\n",
    "\n",
    "Question: {query}\n",
    "\"\"\"\n",
    "\n",
    "prompt = ChatPromptTemplate.from_template(template)\n",
    "\n",
    "retrieval_chain = (\n",
    "    retriever \n",
    "    | RunnablePassthrough() \n",
    "    | prompt \n",
    "    | StructuredOutputParser \n",
    ")"
   ]
  },
  {
   "cell_type": "code",
   "execution_count": 146,
   "metadata": {},
   "outputs": [
    {
     "name": "stderr",
     "output_type": "stream",
     "text": [
      "Error in StdOutCallbackHandler.on_chain_start callback: AttributeError(\"'NoneType' object has no attribute 'get'\")\n"
     ]
    },
    {
     "name": "stdout",
     "output_type": "stream",
     "text": [
      "Search query: What affects John Doe ?\n",
      "Generated Cypher:\n",
      "\u001b[32;1m\u001b[1;3mcypher\n",
      "MATCH (p:Person {name: \"Tom Hanks\"})-[:ACTED_IN]->(m:Movie)\n",
      "RETURN m.title\n",
      "\u001b[0m\n"
     ]
    },
    {
     "name": "stderr",
     "output_type": "stream",
     "text": [
      "Received notification from DBMS server: {severity: WARNING} {code: Neo.ClientNotification.Statement.UnknownRelationshipTypeWarning} {category: UNRECOGNIZED} {title: The provided relationship type is not in the database.} {description: One of the relationship types in your query is not available in the database, make sure you didn't misspell it or that the label is available when you run this statement in your application (the missing relationship type is: ACTED_IN)} {position: line: 2, column: 40, offset: 46} for query: 'cypher\\nMATCH (p:Person {name: \"Tom Hanks\"})-[:ACTED_IN]->(m:Movie)\\nRETURN m.title\\n'\n",
      "Received notification from DBMS server: {severity: WARNING} {code: Neo.ClientNotification.Statement.UnknownLabelWarning} {category: UNRECOGNIZED} {title: The provided label is not in the database.} {description: One of the labels in your query is not available in the database, make sure you didn't misspell it or that the label is available when you run this statement in your application (the missing label name is: Movie)} {position: line: 2, column: 54, offset: 60} for query: 'cypher\\nMATCH (p:Person {name: \"Tom Hanks\"})-[:ACTED_IN]->(m:Movie)\\nRETURN m.title\\n'\n",
      "Received notification from DBMS server: {severity: WARNING} {code: Neo.ClientNotification.Statement.UnknownPropertyKeyWarning} {category: UNRECOGNIZED} {title: The provided property key is not in the database} {description: One of the property names in your query is not available in the database, make sure you didn't misspell it or that the label is available when you run this statement in your application (the missing property name is: title)} {position: line: 3, column: 10, offset: 76} for query: 'cypher\\nMATCH (p:Person {name: \"Tom Hanks\"})-[:ACTED_IN]->(m:Movie)\\nRETURN m.title\\n'\n"
     ]
    },
    {
     "name": "stdout",
     "output_type": "stream",
     "text": [
      "Full Context:\n",
      "\u001b[32;1m\u001b[1;3m[]\u001b[0m\n",
      "\n",
      "\u001b[1m> Finished chain.\u001b[0m\n"
     ]
    },
    {
     "name": "stderr",
     "output_type": "stream",
     "text": [
      "Received notification from DBMS server: {severity: WARNING} {code: Neo.ClientNotification.Statement.FeatureDeprecationWarning} {category: DEPRECATION} {title: This feature is deprecated and will be removed in future versions.} {description: CALL subquery without a variable scope clause is now deprecated. Use CALL () { ... }} {position: line: 1, column: 1, offset: 0} for query: \"CALL { CALL db.index.vector.queryNodes($index, $k, $embedding) YIELD node, score WITH collect({node:node, score:score}) AS nodes, max(score) AS max UNWIND nodes AS n RETURN n.node AS node, (n.score / max) AS score UNION CALL db.index.fulltext.queryNodes($keyword_index, $query, {limit: $k}) YIELD node, score WITH collect({node:node, score:score}) AS nodes, max(score) AS max UNWIND nodes AS n RETURN n.node AS node, (n.score / max) AS score } WITH node, max(score) AS score ORDER BY score DESC LIMIT $k RETURN reduce(str='', k IN ['text'] | str + '\\\\n' + k + ': ' + coalesce(node[k], '')) AS text, node {.*, `embedding`: Null, id: Null, `text`: Null} AS metadata, score\"\n"
     ]
    },
    {
     "name": "stdout",
     "output_type": "stream",
     "text": [
      "Final context: Structured data:\n",
      "I understand! I'm here to help you craft clear, concise, and friendly responses. \n",
      "\n",
      "What can I help you with today? 😊  Do you have a question you need answered in a nice way, or a piece of text you want me to make more human-friendly? \n",
      "\n",
      "Unstructured data:\n",
      "\n",
      "text: treatment due to his poor PS. Furthermore, although crizotinib was known as potential MET \n",
      "inhibitor as well as anaplastic lymphoma kinase (ALK) inhibitor, combination therapy with \n",
      "crizotinib and EGFR -TKI was considered to lack the evidences about safety. Therefore,#Document \n",
      "text: Case Rep Oncol 2019;12:91 –97 \n",
      "DOI: 10.1159/000493088  © 2019 The Author(s). Published by S. Karger AG, Basel  \n",
      "www.karger.com/cro  \n",
      "Seki et al.: Promising Combination Therapy with Bevacizumab and Erlotinib in an EGFR -\n",
      "Mutated NSCLC Patient with MET Amplification Who Showed Intrinsic Resistance to \n",
      "Initial EGFR -TKI Therapy  \n",
      " \n",
      " \n",
      " \n",
      " \n",
      "93 \n",
      "combination therapy with bevacizumab and erlotinib was selected on the basis of the poten-\n",
      "tial efficacy for activated MET signaling pathway as well as the confirmed safety by the \n",
      "JO25567 phase II clinical trial [3]. \n",
      "The patient was started on erlotinib at 150 mg/day plus bevacizumab at 15 mg/kg every \n",
      "3 weeks. By 21 days after the start of this combination therapy, his symptoms gradually im-\n",
      "proved along with the decreased tumor size, resulting in better PS with n o severe toxicities \n",
      "(Fig. 3 a, b). However, after 2 cycles of bevacizumab administration, he unfortunately fractured \n",
      "his face from falling down during the rehabilitation to improve the deteriorated activity of \n",
      "daily life (ADL). Then, he underwent open reduction and fixation of his face fracture under \n",
      "general anesthesia. Eventually, he was forced to quit this promising combination therapy.  \n",
      "Discussion  \n",
      "Resistance to EGFR -TKIs includes intrinsic (primary) and acquired (secondary) re-\n",
      "sistance. Intrinsic resistance is generally defined as a de novo inefficacy of EGFR -TKIs, \n",
      "whereas acquired resistance is generally defined as relapse of the tumor after a period of clin-\n",
      "ical response.  \n",
      "Recently, valuable insights have been gained into the molecular mechanisms of acquired \n",
      "resistance to EGFR -TKIs, including EGFR secondary mutations (e.g., T790M), phenotypic \n",
      "changes (e.g., small -cell lung cancer), and upregulation of bypass signaling pathwa ys [4]. \n",
      "Among bypass signaling pathways, MET amplification is a well -characterized genetic altera-\n",
      "tion which drives erb -b2 receptor tyrosine kinase 3 –dependent activation of downstream \n",
      "phosphoinositide 3 -kinase/protein kinase B s ignaling, bypassing the inhibited EGFR [4]. On \n",
      "the other hand, although little is known about EGFR -TKI intrinsic resistance, major molecular \n",
      "mechanisms include EGFR T790M mutations, EGFR exon 20 insertions, BIM deletions, and \n",
      "upregulation of bypass signaling pathways (e.g., HGF overexpression and MET amplification) \n",
      "[2]. Acquired MET amplification accounts for approximately 5% to 10% of the resistant cases, \n",
      "whereas de novo MET amplification accounts f or approximately 3% of EGFR -mutated NSCLC \n",
      "patients before treatment [5]. In our case, FISH analysis for MET amplification before EGFR -\n",
      "TKI treatment was not performed. However, according to the clinically -remarkable de novo \n",
      "resistance to initial EGFR -TKI, MET amplification seems to have existed as the intrinsic re-\n",
      "sistant mechanism.  \n",
      "Preclinical reports suggest that combined EGFR and MET inhibition is necessary to over-\n",
      "come resistance caused by concurrent MET amplification [6, 7, 8] . However, clinical reports \n",
      "regarding successful combination of EGFR and MET inhibitors in EGFR -mutated/MET -ampli-\n",
      "fied NSCLC patients are limited [9, 10] . Here, for the first time, we have reported th e potential \n",
      "efficacy of combination therapy with bevacizumab and erlotinib in an EGFR -mutated NSCLC \n",
      "patient with MET amplification who showed intrinsic resistance to initial EGFR -TKI therapy.  \n",
      "Regarding the rationale of combining bevacizumab with erlotinib , bevacizumab is an anti -\n",
      "angiogenic monoclonal antibody for vascular endothelial growth factor (VEGF), a key media-\n",
      "tor of angiogenesis. VEGF production of EGFR -mutated lung cancer cells is stimulated by pre-\n",
      "dominantly activating the MET/Gab1 axis, where Gab1  is known to be an important adaptor \n",
      "protein for MET signaling pathway [6]. Therefore, the inhibition of VEGF axis as the down-\n",
      "stream target of MET signaling pathway seems promising. Actually, bevacizumab enhanced#Document \n",
      "text: Case Rep Oncol 2019;12:91 –97 \n",
      "DOI: 10.1159/000493088  © 2019 The Author(s). Published by S. Karger AG, Basel  \n",
      "www.karger.com/cro  \n",
      "Seki et al.: Promising Combination Therapy with Bevacizumab and Erlotinib in an EGFR -\n",
      "Mutated NSCLC Patient with MET Amplification Who Showed Intrinsic Resistance to \n",
      "Initial EGFR -TKI Therapy  \n",
      " \n",
      " \n",
      " \n",
      " \n",
      "96 \n",
      " \n",
      "Fig. 2.  Chest X -ray and chest CT images after 28 days of gefi tinib therapy. ( a) Chest X -ray image showed the \n",
      "increased right hilar mass and the worsened lymphangitic carcinomatosis. ( b) Chest CT image showed in-\n",
      "terval progression of the lung mass and the lymphadenopathy.#Document \n",
      "text: Case Rep Oncol 2019;12:91 –97 \n",
      "DOI: 10.1159/000493088  © 2019 The Author(s). Published by S. Karger AG, Basel  \n",
      "www.karger.com/cro  \n",
      "Seki et al.: Promising Combination Therapy with Bevacizumab and Erlotinib in an EGFR -\n",
      "Mutated NSCLC Patient with MET Amplification Who Showed Intrinsic Resistance to \n",
      "Initial EGFR -TKI Therapy  \n",
      " \n",
      " \n",
      " \n",
      " \n",
      "92 \n",
      "harboring the EGFR exon 19 deletion mutation. He was started on gefitinib at 250 mg/day. \n",
      "However, by 28 days, his symptoms further deteriorated along with the increased tumor s ize, \n",
      "resulting in PS 3. Then, repeat biopsy was performed, showing the positive MET amplification \n",
      "and the preserved EGFR exon 19 deletion mutation. Therefore, on the basis of the potential \n",
      "efficacy for activated MET signaling pathway as well as the confirm ed safety by the known \n",
      "phase II trial for EGFR -mutated patients, the patient was started on combination therapy with \n",
      "bevacizumab at 15 mg/kg every 3 weeks plus erlotinib at 150 mg/day. By 21 days, his symp-\n",
      "toms gradually improved along with the decreased tu mor size, resulting in better PS with no \n",
      "severe toxicities.  © 2019 The Author(s)  \n",
      " Published by S. Karger AG, Basel  \n",
      "Introduction  \n",
      "Sensitizing mutations in the epidermal growth factor receptor (EGFR) gene are associated \n",
      "with marked responses to EGFR tyrosine kinase inhibitors (TKIs), such as gefitinib, erlotinib, \n",
      "and afatinib, in advanced non -small -cell lung cancer (NSCLC) patients [1]. However, up to 20% \n",
      "of NSCLC patients show poor initial clinical response to EGFR -TKIs although t hey harbor a \n",
      "sensitizing EGFR mutation [2]. These patients represent a subgroup that is intrinsically re-\n",
      "sistant to EGFR -TKI treatment, and several potential mechanisms of intrinsic resistance to \n",
      "EGFR -TKIs have been explored, inc luding mesenchymal -epithelial transition factor (MET) sig-\n",
      "naling pathway activation [2]. To date, several novel strategies have been developed to target \n",
      "activated MET signaling pathway [2]. However, ef ficacy of bevacizumab in combination with \n",
      "erlotinib has not been reported in EGFR -mutated NSCLC patients with MET amplification who \n",
      "showed intrinsic resistance to initial EGFR -TKI therapy. Here, we report the promising effi-\n",
      "cacy of combination therapy with bevacizumab and erlotinib to such a case.  \n",
      "Case Report  \n",
      "A 60 -year -old male smoker presented with persistent cough and severe right -back pain. \n",
      "His performance status (PS) was 2 by the pain despite opioid use in palliative care. In the im-\n",
      "aging test of full bod y, chest X -ray and chest CT revealed a large lung mass, extending to pos-\n",
      "terior chest wall and vertebral body, surrounded by lymphangitic carcinomatosis in the right \n",
      "lower lung as well as multiple lymphadenopathy and right pleural effusion (Fig. 1 a, b). Bron-\n",
      "choscopic biopsy of the tumor lead to a diagnosis of primary lung adenocarcinoma \n",
      "(cT4N2M1a, stage IV) harboring the EGFR exon 19 deletion mutation. No other molecular \n",
      "analysis was performed. The patient was started on gefitinib a t 250 mg/day for the treatment \n",
      "of lung adenocarcinoma. However, by 28 days after the start of gefitinib therapy, his symp-\n",
      "toms further deteriorated along with the increased tumor size, resulting in PS 3 (Fig. 2 a, b).  \n",
      "Then, repeat b iopsy was performed from the lung tumor. First, in addition to the pre-\n",
      "served EGFR exon 19 deletion mutation, EGFR T790M mutation was analyzed, resulting in \n",
      "negative status. Second, as a possible molecular alteration next to EGFR T790M mutation, flu-\n",
      "orescenc e in situ hybridization (FISH) analysis for MET amplification was analyzed, resulting \n",
      "in positive status (mean MET per cell = 6.7, MET/CEP7 [centromeric enumeration probe for \n",
      "chromosome 7] ratio = 2.5). At this point, cytotoxic chemotherapy was not a candi date for \n",
      "treatment due to his poor PS. Furthermore, although crizotinib was known as potential MET \n",
      "inhibitor as well as anaplastic lymphoma kinase (ALK) inhibitor, combination therapy with\n",
      "    \n"
     ]
    },
    {
     "ename": "TypeError",
     "evalue": "Expected mapping type as input to ChatPromptTemplate. Received <class 'str'>.",
     "output_type": "error",
     "traceback": [
      "\u001b[1;31m---------------------------------------------------------------------------\u001b[0m",
      "\u001b[1;31mTypeError\u001b[0m                                 Traceback (most recent call last)",
      "Cell \u001b[1;32mIn[146], line 1\u001b[0m\n\u001b[1;32m----> 1\u001b[0m \u001b[43mretrieval_chain\u001b[49m\u001b[38;5;241;43m.\u001b[39;49m\u001b[43minvoke\u001b[49m\u001b[43m(\u001b[49m\u001b[38;5;124;43m\"\u001b[39;49m\u001b[38;5;124;43mWhat affects John Doe ?\u001b[39;49m\u001b[38;5;124;43m\"\u001b[39;49m\u001b[43m)\u001b[49m\n",
      "File \u001b[1;32mc:\\Users\\Archit\\Desktop\\medic\\.venv\\Lib\\site-packages\\langchain_core\\runnables\\base.py:3022\u001b[0m, in \u001b[0;36mRunnableSequence.invoke\u001b[1;34m(self, input, config, **kwargs)\u001b[0m\n\u001b[0;32m   3020\u001b[0m             \u001b[38;5;28minput\u001b[39m \u001b[38;5;241m=\u001b[39m context\u001b[38;5;241m.\u001b[39mrun(step\u001b[38;5;241m.\u001b[39minvoke, \u001b[38;5;28minput\u001b[39m, config, \u001b[38;5;241m*\u001b[39m\u001b[38;5;241m*\u001b[39mkwargs)\n\u001b[0;32m   3021\u001b[0m         \u001b[38;5;28;01melse\u001b[39;00m:\n\u001b[1;32m-> 3022\u001b[0m             \u001b[38;5;28minput\u001b[39m \u001b[38;5;241m=\u001b[39m context\u001b[38;5;241m.\u001b[39mrun(step\u001b[38;5;241m.\u001b[39minvoke, \u001b[38;5;28minput\u001b[39m, config)\n\u001b[0;32m   3023\u001b[0m \u001b[38;5;66;03m# finish the root run\u001b[39;00m\n\u001b[0;32m   3024\u001b[0m \u001b[38;5;28;01mexcept\u001b[39;00m \u001b[38;5;167;01mBaseException\u001b[39;00m \u001b[38;5;28;01mas\u001b[39;00m e:\n",
      "File \u001b[1;32mc:\\Users\\Archit\\Desktop\\medic\\.venv\\Lib\\site-packages\\langchain_core\\prompts\\base.py:192\u001b[0m, in \u001b[0;36mBasePromptTemplate.invoke\u001b[1;34m(self, input, config)\u001b[0m\n\u001b[0;32m    190\u001b[0m \u001b[38;5;28;01mif\u001b[39;00m \u001b[38;5;28mself\u001b[39m\u001b[38;5;241m.\u001b[39mtags:\n\u001b[0;32m    191\u001b[0m     config[\u001b[38;5;124m\"\u001b[39m\u001b[38;5;124mtags\u001b[39m\u001b[38;5;124m\"\u001b[39m] \u001b[38;5;241m=\u001b[39m config[\u001b[38;5;124m\"\u001b[39m\u001b[38;5;124mtags\u001b[39m\u001b[38;5;124m\"\u001b[39m] \u001b[38;5;241m+\u001b[39m \u001b[38;5;28mself\u001b[39m\u001b[38;5;241m.\u001b[39mtags\n\u001b[1;32m--> 192\u001b[0m \u001b[38;5;28;01mreturn\u001b[39;00m \u001b[38;5;28;43mself\u001b[39;49m\u001b[38;5;241;43m.\u001b[39;49m\u001b[43m_call_with_config\u001b[49m\u001b[43m(\u001b[49m\n\u001b[0;32m    193\u001b[0m \u001b[43m    \u001b[49m\u001b[38;5;28;43mself\u001b[39;49m\u001b[38;5;241;43m.\u001b[39;49m\u001b[43m_format_prompt_with_error_handling\u001b[49m\u001b[43m,\u001b[49m\n\u001b[0;32m    194\u001b[0m \u001b[43m    \u001b[49m\u001b[38;5;28;43minput\u001b[39;49m\u001b[43m,\u001b[49m\n\u001b[0;32m    195\u001b[0m \u001b[43m    \u001b[49m\u001b[43mconfig\u001b[49m\u001b[43m,\u001b[49m\n\u001b[0;32m    196\u001b[0m \u001b[43m    \u001b[49m\u001b[43mrun_type\u001b[49m\u001b[38;5;241;43m=\u001b[39;49m\u001b[38;5;124;43m\"\u001b[39;49m\u001b[38;5;124;43mprompt\u001b[39;49m\u001b[38;5;124;43m\"\u001b[39;49m\u001b[43m,\u001b[49m\n\u001b[0;32m    197\u001b[0m \u001b[43m    \u001b[49m\u001b[43mserialized\u001b[49m\u001b[38;5;241;43m=\u001b[39;49m\u001b[38;5;28;43mself\u001b[39;49m\u001b[38;5;241;43m.\u001b[39;49m\u001b[43m_serialized\u001b[49m\u001b[43m,\u001b[49m\n\u001b[0;32m    198\u001b[0m \u001b[43m\u001b[49m\u001b[43m)\u001b[49m\n",
      "File \u001b[1;32mc:\\Users\\Archit\\Desktop\\medic\\.venv\\Lib\\site-packages\\langchain_core\\runnables\\base.py:1923\u001b[0m, in \u001b[0;36mRunnable._call_with_config\u001b[1;34m(self, func, input, config, run_type, serialized, **kwargs)\u001b[0m\n\u001b[0;32m   1919\u001b[0m     context \u001b[38;5;241m=\u001b[39m copy_context()\n\u001b[0;32m   1920\u001b[0m     context\u001b[38;5;241m.\u001b[39mrun(_set_config_context, child_config)\n\u001b[0;32m   1921\u001b[0m     output \u001b[38;5;241m=\u001b[39m cast(\n\u001b[0;32m   1922\u001b[0m         Output,\n\u001b[1;32m-> 1923\u001b[0m         \u001b[43mcontext\u001b[49m\u001b[38;5;241;43m.\u001b[39;49m\u001b[43mrun\u001b[49m\u001b[43m(\u001b[49m\n\u001b[0;32m   1924\u001b[0m \u001b[43m            \u001b[49m\u001b[43mcall_func_with_variable_args\u001b[49m\u001b[43m,\u001b[49m\u001b[43m  \u001b[49m\u001b[38;5;66;43;03m# type: ignore[arg-type]\u001b[39;49;00m\n\u001b[0;32m   1925\u001b[0m \u001b[43m            \u001b[49m\u001b[43mfunc\u001b[49m\u001b[43m,\u001b[49m\u001b[43m  \u001b[49m\u001b[38;5;66;43;03m# type: ignore[arg-type]\u001b[39;49;00m\n\u001b[0;32m   1926\u001b[0m \u001b[43m            \u001b[49m\u001b[38;5;28;43minput\u001b[39;49m\u001b[43m,\u001b[49m\u001b[43m  \u001b[49m\u001b[38;5;66;43;03m# type: ignore[arg-type]\u001b[39;49;00m\n\u001b[0;32m   1927\u001b[0m \u001b[43m            \u001b[49m\u001b[43mconfig\u001b[49m\u001b[43m,\u001b[49m\n\u001b[0;32m   1928\u001b[0m \u001b[43m            \u001b[49m\u001b[43mrun_manager\u001b[49m\u001b[43m,\u001b[49m\n\u001b[0;32m   1929\u001b[0m \u001b[43m            \u001b[49m\u001b[38;5;241;43m*\u001b[39;49m\u001b[38;5;241;43m*\u001b[39;49m\u001b[43mkwargs\u001b[49m\u001b[43m,\u001b[49m\n\u001b[0;32m   1930\u001b[0m \u001b[43m        \u001b[49m\u001b[43m)\u001b[49m,\n\u001b[0;32m   1931\u001b[0m     )\n\u001b[0;32m   1932\u001b[0m \u001b[38;5;28;01mexcept\u001b[39;00m \u001b[38;5;167;01mBaseException\u001b[39;00m \u001b[38;5;28;01mas\u001b[39;00m e:\n\u001b[0;32m   1933\u001b[0m     run_manager\u001b[38;5;241m.\u001b[39mon_chain_error(e)\n",
      "File \u001b[1;32mc:\\Users\\Archit\\Desktop\\medic\\.venv\\Lib\\site-packages\\langchain_core\\runnables\\config.py:396\u001b[0m, in \u001b[0;36mcall_func_with_variable_args\u001b[1;34m(func, input, config, run_manager, **kwargs)\u001b[0m\n\u001b[0;32m    394\u001b[0m \u001b[38;5;28;01mif\u001b[39;00m run_manager \u001b[38;5;129;01mis\u001b[39;00m \u001b[38;5;129;01mnot\u001b[39;00m \u001b[38;5;28;01mNone\u001b[39;00m \u001b[38;5;129;01mand\u001b[39;00m accepts_run_manager(func):\n\u001b[0;32m    395\u001b[0m     kwargs[\u001b[38;5;124m\"\u001b[39m\u001b[38;5;124mrun_manager\u001b[39m\u001b[38;5;124m\"\u001b[39m] \u001b[38;5;241m=\u001b[39m run_manager\n\u001b[1;32m--> 396\u001b[0m \u001b[38;5;28;01mreturn\u001b[39;00m \u001b[43mfunc\u001b[49m\u001b[43m(\u001b[49m\u001b[38;5;28;43minput\u001b[39;49m\u001b[43m,\u001b[49m\u001b[43m \u001b[49m\u001b[38;5;241;43m*\u001b[39;49m\u001b[38;5;241;43m*\u001b[39;49m\u001b[43mkwargs\u001b[49m\u001b[43m)\u001b[49m\n",
      "File \u001b[1;32mc:\\Users\\Archit\\Desktop\\medic\\.venv\\Lib\\site-packages\\langchain_core\\prompts\\base.py:166\u001b[0m, in \u001b[0;36mBasePromptTemplate._format_prompt_with_error_handling\u001b[1;34m(self, inner_input)\u001b[0m\n\u001b[0;32m    165\u001b[0m \u001b[38;5;28;01mdef\u001b[39;00m \u001b[38;5;21m_format_prompt_with_error_handling\u001b[39m(\u001b[38;5;28mself\u001b[39m, inner_input: \u001b[38;5;28mdict\u001b[39m) \u001b[38;5;241m-\u001b[39m\u001b[38;5;241m>\u001b[39m PromptValue:\n\u001b[1;32m--> 166\u001b[0m     _inner_input \u001b[38;5;241m=\u001b[39m \u001b[38;5;28;43mself\u001b[39;49m\u001b[38;5;241;43m.\u001b[39;49m\u001b[43m_validate_input\u001b[49m\u001b[43m(\u001b[49m\u001b[43minner_input\u001b[49m\u001b[43m)\u001b[49m\n\u001b[0;32m    167\u001b[0m     \u001b[38;5;28;01mreturn\u001b[39;00m \u001b[38;5;28mself\u001b[39m\u001b[38;5;241m.\u001b[39mformat_prompt(\u001b[38;5;241m*\u001b[39m\u001b[38;5;241m*\u001b[39m_inner_input)\n",
      "File \u001b[1;32mc:\\Users\\Archit\\Desktop\\medic\\.venv\\Lib\\site-packages\\langchain_core\\prompts\\base.py:145\u001b[0m, in \u001b[0;36mBasePromptTemplate._validate_input\u001b[1;34m(self, inner_input)\u001b[0m\n\u001b[0;32m    142\u001b[0m         inner_input \u001b[38;5;241m=\u001b[39m {var_name: inner_input}\n\u001b[0;32m    144\u001b[0m     \u001b[38;5;28;01melse\u001b[39;00m:\n\u001b[1;32m--> 145\u001b[0m         \u001b[38;5;28;01mraise\u001b[39;00m \u001b[38;5;167;01mTypeError\u001b[39;00m(\n\u001b[0;32m    146\u001b[0m             \u001b[38;5;124mf\u001b[39m\u001b[38;5;124m\"\u001b[39m\u001b[38;5;124mExpected mapping type as input to \u001b[39m\u001b[38;5;132;01m{\u001b[39;00m\u001b[38;5;28mself\u001b[39m\u001b[38;5;241m.\u001b[39m\u001b[38;5;18m__class__\u001b[39m\u001b[38;5;241m.\u001b[39m\u001b[38;5;18m__name__\u001b[39m\u001b[38;5;132;01m}\u001b[39;00m\u001b[38;5;124m. \u001b[39m\u001b[38;5;124m\"\u001b[39m\n\u001b[0;32m    147\u001b[0m             \u001b[38;5;124mf\u001b[39m\u001b[38;5;124m\"\u001b[39m\u001b[38;5;124mReceived \u001b[39m\u001b[38;5;132;01m{\u001b[39;00m\u001b[38;5;28mtype\u001b[39m(inner_input)\u001b[38;5;132;01m}\u001b[39;00m\u001b[38;5;124m.\u001b[39m\u001b[38;5;124m\"\u001b[39m\n\u001b[0;32m    148\u001b[0m         )\n\u001b[0;32m    149\u001b[0m missing \u001b[38;5;241m=\u001b[39m \u001b[38;5;28mset\u001b[39m(\u001b[38;5;28mself\u001b[39m\u001b[38;5;241m.\u001b[39minput_variables)\u001b[38;5;241m.\u001b[39mdifference(inner_input)\n\u001b[0;32m    150\u001b[0m \u001b[38;5;28;01mif\u001b[39;00m missing:\n",
      "\u001b[1;31mTypeError\u001b[0m: Expected mapping type as input to ChatPromptTemplate. Received <class 'str'>."
     ]
    }
   ],
   "source": [
    "retrieval_chain.invoke(\"What affects John Doe ?\")"
   ]
  },
  {
   "cell_type": "code",
   "execution_count": null,
   "metadata": {},
   "outputs": [],
   "source": []
  }
 ],
 "metadata": {
  "kernelspec": {
   "display_name": ".venv",
   "language": "python",
   "name": "python3"
  },
  "language_info": {
   "codemirror_mode": {
    "name": "ipython",
    "version": 3
   },
   "file_extension": ".py",
   "mimetype": "text/x-python",
   "name": "python",
   "nbconvert_exporter": "python",
   "pygments_lexer": "ipython3",
   "version": "3.11.4"
  }
 },
 "nbformat": 4,
 "nbformat_minor": 2
}
