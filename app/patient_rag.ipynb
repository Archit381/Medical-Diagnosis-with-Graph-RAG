{
 "cells": [
  {
   "cell_type": "code",
   "execution_count": 1,
   "metadata": {},
   "outputs": [
    {
     "data": {
      "text/plain": [
       "ChatGroq(client=<groq.resources.chat.completions.Completions object at 0x000001E9F2AF6950>, async_client=<groq.resources.chat.completions.AsyncCompletions object at 0x000001E9F2BF4B90>, model_name='Gemma2-9b-It', model_kwargs={}, groq_api_key=SecretStr('**********'))"
      ]
     },
     "execution_count": 1,
     "metadata": {},
     "output_type": "execute_result"
    }
   ],
   "source": [
    "from langchain_groq import ChatGroq\n",
    "import os\n",
    "from dotenv import load_dotenv\n",
    "\n",
    "load_dotenv()\n",
    "\n",
    "llm = ChatGroq(groq_api_key = os.getenv('groq_api'), model_name=\"Gemma2-9b-It\")\n",
    "\n",
    "llm"
   ]
  },
  {
   "cell_type": "code",
   "execution_count": 2,
   "metadata": {},
   "outputs": [
    {
     "data": {
      "text/plain": [
       "Document(metadata={'source': '../dataset/final_data/10.1159@000493088.pdf', 'page': 0}, page_content='Case Rep Oncol 2019;12:91 –97 \\nDOI: 10.1159/000493088  \\nPublished online: January 21, 2019  © 2019 The Author(s)  \\nPublished by S. Karger AG, Basel  \\nwww.karger.com/cro  \\nThis article is licensed under the Creative Commons Attribution -NonCommercial 4.0 \\nInternational License (CC BY -NC) (http://www.karger.com/Services/OpenAccessLicense). \\nUsage and distribution for commercial purposes requires written permission.  \\n \\n \\n           \\n  Nobuhiko Seki, MD, PhD  \\nDivision of Medical Oncology, Department of Internal Medicine  \\nTeikyo University School of Medicine, 2 –11–1, Kaga  \\nTokyo 173 –8606 (Japan)  \\nE-Mail nseki@med.teikyo -u.ac.jp  \\n \\n  \\nCase Report  \\n \\nPromising Combination Therapy \\nwith Bevacizumab and Erlotinib in \\nan EGFR -Mutated NSCLC Patient \\nwith MET Amplification Who \\nShowed Intrinsic Resistance to Initial \\nEGFR -TKI Therapy  \\nNobuhiko  Seki    Maika  Natsume    Ryosuke  Ochiai    Terunobu  Haruyama    \\nMasashi  Ishihara    Yoko  Fukasawa    Takahiko  Sakamoto    \\nShigeru  Tanzawa    Ryo  Usui    Takeshi  Honda    Shuji  Ota    \\nYasuko  Ichikawa    Kiyotaka  Watanabe     \\nDivision of Medical Oncology, Department of Internal Medicine, Teikyo University School \\nof Medicine, Tokyo,  Japan  \\nKeywords  \\nLung cancer · EGFR mutation · MET amplification · Erlotinib · Bevacizumab  \\nAbstract  \\nIn lung cancer, several potential mechanisms of intrinsic and  acquired resistance to epidermal \\ngrowth factor receptor (EGFR) tyrosine kinase inhibitors (TKIs) have been explored, including \\nmesenchymal -epithelial transition factor (MET) signaling pathway activation. On the other \\nhand, vascular endothelial growth fact or (VEGF) production of EGFR -mutated lung cancer cells \\nis stimulated by predominantly activated MET signaling pathway. Therefore, the inhibition of \\nVEGF axis as the downstream target of MET signaling pathway seems promising. Here, for the \\nfirst time, we re port the potential efficacy of combination therapy with bevacizumab and erlo-\\ntinib in an EGFR -mutated NSCLC patient with MET amplification who showed intrinsic re-\\nsistance to initial EGFR -TKI therapy. The patient was a 60 -year-old male smoker, showing per-\\nformance status (PS) 2, who presented with stage IV lung adenocarcinoma (cT4N2M1a)')"
      ]
     },
     "execution_count": 2,
     "metadata": {},
     "output_type": "execute_result"
    }
   ],
   "source": [
    "from langchain_community.document_loaders import PyPDFLoader\n",
    "\n",
    "file_path = (\n",
    "    \"../dataset/final_data/10.1159@000493088.pdf\"\n",
    ")\n",
    "\n",
    "loader = PyPDFLoader(file_path)\n",
    "pages = loader.load_and_split()\n",
    "\n",
    "pages[0]"
   ]
  },
  {
   "cell_type": "code",
   "execution_count": 3,
   "metadata": {},
   "outputs": [
    {
     "data": {
      "text/plain": [
       "[GraphDocument(nodes=[Node(id='Nobuhiko Seki', type='Person', properties={}), Node(id='Maika Natsume', type='Person', properties={}), Node(id='Ryosuke Ochiai', type='Person', properties={}), Node(id='Terunobu Haruyama', type='Person', properties={}), Node(id='Masashi Ishihara', type='Person', properties={}), Node(id='Yoko Fukasawa', type='Person', properties={}), Node(id='Takahiko Sakamoto', type='Person', properties={}), Node(id='Shigeru Tanzawa', type='Person', properties={}), Node(id='Ryo Usui', type='Person', properties={}), Node(id='Takeshi Honda', type='Person', properties={}), Node(id='Shuji Ota', type='Person', properties={}), Node(id='Yasuko Ichikawa', type='Person', properties={}), Node(id='Kiyotaka Watanabe', type='Person', properties={}), Node(id='Division Of Medical Oncology', type='Department', properties={}), Node(id='Department Of Internal Medicine', type='Department', properties={}), Node(id='Teikyo University School Of Medicine', type='Institution', properties={}), Node(id='Tokyo', type='Location', properties={}), Node(id='Lung Cancer', type='Disease', properties={}), Node(id='Egfr Mutation', type='Genetic_feature', properties={}), Node(id='Met Amplification', type='Genetic_feature', properties={}), Node(id='Erlotinib', type='Drug', properties={}), Node(id='Bevacizumab', type='Drug', properties={}), Node(id='Egfr -Tki Therapy', type='Therapy', properties={})], relationships=[Relationship(source=Node(id='Nobuhiko Seki', type='Person', properties={}), target=Node(id='Division Of Medical Oncology', type='Department', properties={}), type='WORKS_IN', properties={}), Relationship(source=Node(id='Division Of Medical Oncology', type='Department', properties={}), target=Node(id='Teikyo University School Of Medicine', type='Institution', properties={}), type='PART_OF', properties={}), Relationship(source=Node(id='Teikyo University School Of Medicine', type='Institution', properties={}), target=Node(id='Tokyo', type='Location', properties={}), type='LOCATED_IN', properties={}), Relationship(source=Node(id='Egfr Mutation', type='Genetic_feature', properties={}), target=Node(id='Lung Cancer', type='Disease', properties={}), type='ASSOCIATED_WITH', properties={}), Relationship(source=Node(id='Met Amplification', type='Genetic_feature', properties={}), target=Node(id='Lung Cancer', type='Disease', properties={}), type='ASSOCIATED_WITH', properties={}), Relationship(source=Node(id='Erlotinib', type='Drug', properties={}), target=Node(id='Egfr -Tki Therapy', type='Therapy', properties={}), type='COMPONENT_OF', properties={}), Relationship(source=Node(id='Bevacizumab', type='Drug', properties={}), target=Node(id='Egfr -Tki Therapy', type='Therapy', properties={}), type='COMPONENT_OF', properties={})], source=Document(metadata={'source': '../dataset/final_data/10.1159@000493088.pdf', 'page': 0}, page_content='Case Rep Oncol 2019;12:91 –97 \\nDOI: 10.1159/000493088  \\nPublished online: January 21, 2019  © 2019 The Author(s)  \\nPublished by S. Karger AG, Basel  \\nwww.karger.com/cro  \\nThis article is licensed under the Creative Commons Attribution -NonCommercial 4.0 \\nInternational License (CC BY -NC) (http://www.karger.com/Services/OpenAccessLicense). \\nUsage and distribution for commercial purposes requires written permission.  \\n \\n \\n           \\n  Nobuhiko Seki, MD, PhD  \\nDivision of Medical Oncology, Department of Internal Medicine  \\nTeikyo University School of Medicine, 2 –11–1, Kaga  \\nTokyo 173 –8606 (Japan)  \\nE-Mail nseki@med.teikyo -u.ac.jp  \\n \\n  \\nCase Report  \\n \\nPromising Combination Therapy \\nwith Bevacizumab and Erlotinib in \\nan EGFR -Mutated NSCLC Patient \\nwith MET Amplification Who \\nShowed Intrinsic Resistance to Initial \\nEGFR -TKI Therapy  \\nNobuhiko  Seki    Maika  Natsume    Ryosuke  Ochiai    Terunobu  Haruyama    \\nMasashi  Ishihara    Yoko  Fukasawa    Takahiko  Sakamoto    \\nShigeru  Tanzawa    Ryo  Usui    Takeshi  Honda    Shuji  Ota    \\nYasuko  Ichikawa    Kiyotaka  Watanabe     \\nDivision of Medical Oncology, Department of Internal Medicine, Teikyo University School \\nof Medicine, Tokyo,  Japan  \\nKeywords  \\nLung cancer · EGFR mutation · MET amplification · Erlotinib · Bevacizumab  \\nAbstract  \\nIn lung cancer, several potential mechanisms of intrinsic and  acquired resistance to epidermal \\ngrowth factor receptor (EGFR) tyrosine kinase inhibitors (TKIs) have been explored, including \\nmesenchymal -epithelial transition factor (MET) signaling pathway activation. On the other \\nhand, vascular endothelial growth fact or (VEGF) production of EGFR -mutated lung cancer cells \\nis stimulated by predominantly activated MET signaling pathway. Therefore, the inhibition of \\nVEGF axis as the downstream target of MET signaling pathway seems promising. Here, for the \\nfirst time, we re port the potential efficacy of combination therapy with bevacizumab and erlo-\\ntinib in an EGFR -mutated NSCLC patient with MET amplification who showed intrinsic re-\\nsistance to initial EGFR -TKI therapy. The patient was a 60 -year-old male smoker, showing per-\\nformance status (PS) 2, who presented with stage IV lung adenocarcinoma (cT4N2M1a)')),\n",
       " GraphDocument(nodes=[Node(id='Egfr Exon 19 Deletion Mutation', type='Mutation', properties={}), Node(id='Gefitinib', type='Drug', properties={}), Node(id='Met Amplification', type='Mutation', properties={}), Node(id='Bevacizumab', type='Drug', properties={}), Node(id='Erlotinib', type='Drug', properties={}), Node(id='Patient', type='Person', properties={}), Node(id='Lung Adenocarcinoma', type='Disease', properties={})], relationships=[Relationship(source=Node(id='Patient', type='Person', properties={}), target=Node(id='Lung Adenocarcinoma', type='Disease', properties={}), type='HAS', properties={}), Relationship(source=Node(id='Lung Adenocarcinoma', type='Disease', properties={}), target=Node(id='Egfr Exon 19 Deletion Mutation', type='Mutation', properties={}), type='HARBORS', properties={}), Relationship(source=Node(id='Patient', type='Person', properties={}), target=Node(id='Gefitinib', type='Drug', properties={}), type='RECEIVED', properties={}), Relationship(source=Node(id='Lung Adenocarcinoma', type='Disease', properties={}), target=Node(id='Met Amplification', type='Mutation', properties={}), type='HAS', properties={}), Relationship(source=Node(id='Patient', type='Person', properties={}), target=Node(id='Bevacizumab', type='Drug', properties={}), type='RECEIVED', properties={}), Relationship(source=Node(id='Patient', type='Person', properties={}), target=Node(id='Erlotinib', type='Drug', properties={}), type='RECEIVED', properties={})], source=Document(metadata={'source': '../dataset/final_data/10.1159@000493088.pdf', 'page': 1}, page_content='Case Rep Oncol 2019;12:91 –97 \\nDOI: 10.1159/000493088  © 2019 The Author(s). Published by S. Karger AG, Basel  \\nwww.karger.com/cro  \\nSeki et al.: Promising Combination Therapy with Bevacizumab and Erlotinib in an EGFR -\\nMutated NSCLC Patient with MET Amplification Who Showed Intrinsic Resistance to \\nInitial EGFR -TKI Therapy  \\n \\n \\n \\n \\n92 \\nharboring the EGFR exon 19 deletion mutation. He was started on gefitinib at 250 mg/day. \\nHowever, by 28 days, his symptoms further deteriorated along with the increased tumor s ize, \\nresulting in PS 3. Then, repeat biopsy was performed, showing the positive MET amplification \\nand the preserved EGFR exon 19 deletion mutation. Therefore, on the basis of the potential \\nefficacy for activated MET signaling pathway as well as the confirm ed safety by the known \\nphase II trial for EGFR -mutated patients, the patient was started on combination therapy with \\nbevacizumab at 15 mg/kg every 3 weeks plus erlotinib at 150 mg/day. By 21 days, his symp-\\ntoms gradually improved along with the decreased tu mor size, resulting in better PS with no \\nsevere toxicities.  © 2019 The Author(s)  \\n Published by S. Karger AG, Basel  \\nIntroduction  \\nSensitizing mutations in the epidermal growth factor receptor (EGFR) gene are associated \\nwith marked responses to EGFR tyrosine kinase inhibitors (TKIs), such as gefitinib, erlotinib, \\nand afatinib, in advanced non -small -cell lung cancer (NSCLC) patients [1]. However, up to 20% \\nof NSCLC patients show poor initial clinical response to EGFR -TKIs although t hey harbor a \\nsensitizing EGFR mutation [2]. These patients represent a subgroup that is intrinsically re-\\nsistant to EGFR -TKI treatment, and several potential mechanisms of intrinsic resistance to \\nEGFR -TKIs have been explored, inc luding mesenchymal -epithelial transition factor (MET) sig-\\nnaling pathway activation [2]. To date, several novel strategies have been developed to target \\nactivated MET signaling pathway [2]. However, ef ficacy of bevacizumab in combination with \\nerlotinib has not been reported in EGFR -mutated NSCLC patients with MET amplification who \\nshowed intrinsic resistance to initial EGFR -TKI therapy. Here, we report the promising effi-\\ncacy of combination therapy with bevacizumab and erlotinib to such a case.  \\nCase Report  \\nA 60 -year -old male smoker presented with persistent cough and severe right -back pain. \\nHis performance status (PS) was 2 by the pain despite opioid use in palliative care. In the im-\\naging test of full bod y, chest X -ray and chest CT revealed a large lung mass, extending to pos-\\nterior chest wall and vertebral body, surrounded by lymphangitic carcinomatosis in the right \\nlower lung as well as multiple lymphadenopathy and right pleural effusion (Fig. 1 a, b). Bron-\\nchoscopic biopsy of the tumor lead to a diagnosis of primary lung adenocarcinoma \\n(cT4N2M1a, stage IV) harboring the EGFR exon 19 deletion mutation. No other molecular \\nanalysis was performed. The patient was started on gefitinib a t 250 mg/day for the treatment \\nof lung adenocarcinoma. However, by 28 days after the start of gefitinib therapy, his symp-\\ntoms further deteriorated along with the increased tumor size, resulting in PS 3 (Fig. 2 a, b).  \\nThen, repeat b iopsy was performed from the lung tumor. First, in addition to the pre-\\nserved EGFR exon 19 deletion mutation, EGFR T790M mutation was analyzed, resulting in \\nnegative status. Second, as a possible molecular alteration next to EGFR T790M mutation, flu-\\norescenc e in situ hybridization (FISH) analysis for MET amplification was analyzed, resulting \\nin positive status (mean MET per cell = 6.7, MET/CEP7 [centromeric enumeration probe for \\nchromosome 7] ratio = 2.5). At this point, cytotoxic chemotherapy was not a candi date for \\ntreatment due to his poor PS. Furthermore, although crizotinib was known as potential MET \\ninhibitor as well as anaplastic lymphoma kinase (ALK) inhibitor, combination therapy with')),\n",
       " GraphDocument(nodes=[Node(id='Crizotinib', type='Drug', properties={}), Node(id='Met', type='Protein', properties={}), Node(id='Alk', type='Protein', properties={}), Node(id='Egfr', type='Protein', properties={}), Node(id='Egfr-Tki', type='Drug', properties={})], relationships=[Relationship(source=Node(id='Crizotinib', type='Drug', properties={}), target=Node(id='Met', type='Protein', properties={}), type='INHIBITS', properties={}), Relationship(source=Node(id='Crizotinib', type='Drug', properties={}), target=Node(id='Alk', type='Protein', properties={}), type='INHIBITS', properties={}), Relationship(source=Node(id='Crizotinib', type='Drug', properties={}), target=Node(id='Egfr-Tki', type='Drug', properties={}), type='COMBINATION_THERAPY', properties={})], source=Document(metadata={'source': '../dataset/final_data/10.1159@000493088.pdf', 'page': 1}, page_content='treatment due to his poor PS. Furthermore, although crizotinib was known as potential MET \\ninhibitor as well as anaplastic lymphoma kinase (ALK) inhibitor, combination therapy with \\ncrizotinib and EGFR -TKI was considered to lack the evidences about safety. Therefore,')),\n",
       " GraphDocument(nodes=[Node(id='Seki Et Al.', type='Person', properties={}), Node(id='Patient', type='Person', properties={}), Node(id='Jo25567', type='Clinical trial', properties={}), Node(id='Erlotinib', type='Drug', properties={}), Node(id='Bevacizumab', type='Drug', properties={}), Node(id='Egfr -Tki', type='Drug', properties={}), Node(id='Met Amplification', type='Genetic alteration', properties={}), Node(id='Egfr', type='Gene', properties={}), Node(id='Met', type='Gene', properties={}), Node(id='Hgf', type='Gene', properties={}), Node(id='Vegf', type='Protein', properties={}), Node(id='Gab1', type='Protein', properties={}), Node(id='Angiogenesis', type='Biological process', properties={}), Node(id='Nsclc', type='Disease', properties={})], relationships=[Relationship(source=Node(id='Seki Et Al.', type='Person', properties={}), target=Node(id='Patient', type='Person', properties={}), type='TREATED', properties={}), Relationship(source=Node(id='Patient', type='Person', properties={}), target=Node(id='Erlotinib', type='Drug', properties={}), type='RECEIVED_TREATMENT', properties={}), Relationship(source=Node(id='Patient', type='Person', properties={}), target=Node(id='Bevacizumab', type='Drug', properties={}), type='RECEIVED_TREATMENT', properties={}), Relationship(source=Node(id='Patient', type='Person', properties={}), target=Node(id='Egfr -Tki', type='Drug', properties={}), type='RECEIVED_TREATMENT', properties={}), Relationship(source=Node(id='Patient', type='Person', properties={}), target=Node(id='Met Amplification', type='Genetic alteration', properties={}), type='HAS', properties={}), Relationship(source=Node(id='Patient', type='Person', properties={}), target=Node(id='Nsclc', type='Disease', properties={}), type='HAS', properties={}), Relationship(source=Node(id='Erlotinib', type='Drug', properties={}), target=Node(id='Egfr', type='Gene', properties={}), type='INHIBITS', properties={}), Relationship(source=Node(id='Bevacizumab', type='Drug', properties={}), target=Node(id='Vegf', type='Protein', properties={}), type='INHIBITS', properties={}), Relationship(source=Node(id='Met Amplification', type='Genetic alteration', properties={}), target=Node(id='Hgf', type='Gene', properties={}), type='ACTIVATES', properties={}), Relationship(source=Node(id='Vegf', type='Protein', properties={}), target=Node(id='Angiogenesis', type='Biological process', properties={}), type='MEDIATES', properties={})], source=Document(metadata={'source': '../dataset/final_data/10.1159@000493088.pdf', 'page': 2}, page_content='Case Rep Oncol 2019;12:91 –97 \\nDOI: 10.1159/000493088  © 2019 The Author(s). Published by S. Karger AG, Basel  \\nwww.karger.com/cro  \\nSeki et al.: Promising Combination Therapy with Bevacizumab and Erlotinib in an EGFR -\\nMutated NSCLC Patient with MET Amplification Who Showed Intrinsic Resistance to \\nInitial EGFR -TKI Therapy  \\n \\n \\n \\n \\n93 \\ncombination therapy with bevacizumab and erlotinib was selected on the basis of the poten-\\ntial efficacy for activated MET signaling pathway as well as the confirmed safety by the \\nJO25567 phase II clinical trial [3]. \\nThe patient was started on erlotinib at 150 mg/day plus bevacizumab at 15 mg/kg every \\n3 weeks. By 21 days after the start of this combination therapy, his symptoms gradually im-\\nproved along with the decreased tumor size, resulting in better PS with n o severe toxicities \\n(Fig. 3 a, b). However, after 2 cycles of bevacizumab administration, he unfortunately fractured \\nhis face from falling down during the rehabilitation to improve the deteriorated activity of \\ndaily life (ADL). Then, he underwent open reduction and fixation of his face fracture under \\ngeneral anesthesia. Eventually, he was forced to quit this promising combination therapy.  \\nDiscussion  \\nResistance to EGFR -TKIs includes intrinsic (primary) and acquired (secondary) re-\\nsistance. Intrinsic resistance is generally defined as a de novo inefficacy of EGFR -TKIs, \\nwhereas acquired resistance is generally defined as relapse of the tumor after a period of clin-\\nical response.  \\nRecently, valuable insights have been gained into the molecular mechanisms of acquired \\nresistance to EGFR -TKIs, including EGFR secondary mutations (e.g., T790M), phenotypic \\nchanges (e.g., small -cell lung cancer), and upregulation of bypass signaling pathwa ys [4]. \\nAmong bypass signaling pathways, MET amplification is a well -characterized genetic altera-\\ntion which drives erb -b2 receptor tyrosine kinase 3 –dependent activation of downstream \\nphosphoinositide 3 -kinase/protein kinase B s ignaling, bypassing the inhibited EGFR [4]. On \\nthe other hand, although little is known about EGFR -TKI intrinsic resistance, major molecular \\nmechanisms include EGFR T790M mutations, EGFR exon 20 insertions, BIM deletions, and \\nupregulation of bypass signaling pathways (e.g., HGF overexpression and MET amplification) \\n[2]. Acquired MET amplification accounts for approximately 5% to 10% of the resistant cases, \\nwhereas de novo MET amplification accounts f or approximately 3% of EGFR -mutated NSCLC \\npatients before treatment [5]. In our case, FISH analysis for MET amplification before EGFR -\\nTKI treatment was not performed. However, according to the clinically -remarkable de novo \\nresistance to initial EGFR -TKI, MET amplification seems to have existed as the intrinsic re-\\nsistant mechanism.  \\nPreclinical reports suggest that combined EGFR and MET inhibition is necessary to over-\\ncome resistance caused by concurrent MET amplification [6, 7, 8] . However, clinical reports \\nregarding successful combination of EGFR and MET inhibitors in EGFR -mutated/MET -ampli-\\nfied NSCLC patients are limited [9, 10] . Here, for the first time, we have reported th e potential \\nefficacy of combination therapy with bevacizumab and erlotinib in an EGFR -mutated NSCLC \\npatient with MET amplification who showed intrinsic resistance to initial EGFR -TKI therapy.  \\nRegarding the rationale of combining bevacizumab with erlotinib , bevacizumab is an anti -\\nangiogenic monoclonal antibody for vascular endothelial growth factor (VEGF), a key media-\\ntor of angiogenesis. VEGF production of EGFR -mutated lung cancer cells is stimulated by pre-\\ndominantly activating the MET/Gab1 axis, where Gab1  is known to be an important adaptor \\nprotein for MET signaling pathway [6]. Therefore, the inhibition of VEGF axis as the down-\\nstream target of MET signaling pathway seems promising. Actually, bevacizumab enhanced')),\n",
       " GraphDocument(nodes=[Node(id='Met Signaling Pathway', type='Pathway', properties={}), Node(id='Vegf Axis', type='Pathway', properties={}), Node(id='Egfr', type='Protein', properties={}), Node(id='Met', type='Protein', properties={}), Node(id='Erlotinib', type='Drug', properties={}), Node(id='Bevacizumab', type='Drug', properties={}), Node(id='Nsclc Xenograft Models', type='Model', properties={})], relationships=[Relationship(source=Node(id='Met Signaling Pathway', type='Pathway', properties={}), target=Node(id='Vegf Axis', type='Pathway', properties={}), type='INHIBITION', properties={}), Relationship(source=Node(id='Erlotinib', type='Drug', properties={}), target=Node(id='Egfr', type='Protein', properties={}), type='INHIBITION', properties={}), Relationship(source=Node(id='Erlotinib', type='Drug', properties={}), target=Node(id='Met', type='Protein', properties={}), type='INHIBITION', properties={}), Relationship(source=Node(id='Bevacizumab', type='Drug', properties={}), target=Node(id='Vegf Axis', type='Pathway', properties={}), type='INHIBITION', properties={}), Relationship(source=Node(id='Erlotinib', type='Drug', properties={}), target=Node(id='Nsclc Xenograft Models', type='Model', properties={}), type='TREATMENT', properties={}), Relationship(source=Node(id='Bevacizumab', type='Drug', properties={}), target=Node(id='Nsclc Xenograft Models', type='Model', properties={}), type='TREATMENT', properties={})], source=Document(metadata={'source': '../dataset/final_data/10.1159@000493088.pdf', 'page': 2}, page_content='protein for MET signaling pathway [6]. Therefore, the inhibition of VEGF axis as the down-\\nstream target of MET signaling pathway seems promising. Actually, bevacizumab enhanced \\nthe antitumor activity of erlotinib in EGFR -mutated/MET -amplified NSCLC xenograft models, \\nshowing that combination therapy with bevacizumab and erlotinib significantly inhibited the \\ntumor growth rate by approximately 50% compared with erlotinib alone [6, 7, 8] .')),\n",
       " GraphDocument(nodes=[Node(id='Seki', type='Person', properties={}), Node(id='Bevacizumab', type='Drug', properties={}), Node(id='Erlotinib', type='Drug', properties={}), Node(id='Nsclc', type='Disease', properties={}), Node(id='Egfr', type='Gene', properties={}), Node(id='Met', type='Gene', properties={})], relationships=[Relationship(source=Node(id='Seki', type='Person', properties={}), target=Node(id='Nsclc', type='Disease', properties={}), type='PATIENT_WITH', properties={}), Relationship(source=Node(id='Nsclc', type='Disease', properties={}), target=Node(id='Egfr', type='Gene', properties={}), type='HAS_MUTATION', properties={}), Relationship(source=Node(id='Nsclc', type='Disease', properties={}), target=Node(id='Met', type='Gene', properties={}), type='HAS_AMPLIFICATION', properties={}), Relationship(source=Node(id='Egfr', type='Gene', properties={}), target=Node(id='Erlotinib', type='Drug', properties={}), type='TARGETED_BY', properties={}), Relationship(source=Node(id='Egfr', type='Gene', properties={}), target=Node(id='Bevacizumab', type='Drug', properties={}), type='TARGETED_BY', properties={}), Relationship(source=Node(id='Nsclc', type='Disease', properties={}), target=Node(id='Seki', type='Person', properties={}), type='TREATED_WITH', properties={})], source=Document(metadata={'source': '../dataset/final_data/10.1159@000493088.pdf', 'page': 3}, page_content='Case Rep Oncol 2019;12:91 –97 \\nDOI: 10.1159/000493088  © 2019 The Author(s). Published by S. Karger AG, Basel  \\nwww.karger.com/cro  \\nSeki et al.: Promising Combination Therapy with Bevacizumab and Erlotinib in an EGFR -\\nMutated NSCLC Patient with MET Amplification Who Showed Intrinsic Resistance to \\nInitial EGFR -TKI Therapy  \\n \\n \\n \\n \\n94 \\nIn the clinical settings, the results of phase III study comparing bevacizumab plus erlotinib \\nwith erlotinib in patients with untreated NSCLC harboring a sensitizing EGFR mutation were \\npresented at 2018 ASCO Annual Meeting as median PF S of 16.9 months in bevacizumab plus \\nerlotinib arm and 13.3 months in erlotinib arm (HR 0.605, p = 0.0157) [11] . Furthermore, in \\nthis study, initial clinical response (some kind of shrinkage) was observed in all the patients \\ntreated with bevacizumab plus erlotinib. Therefore, this regimen is now considered as a new \\nstandard first -line treatment in EGFR -mutated NSCLC patients.  \\nIn conclusion, we have shown the promising combination therapy with bevacizumab and \\nerlotinib in an EGF R-mutated NSCLC patient with MET amplification who showed intrinsic \\nresistance to initial EGFR -TKI therapy.  \\nStatement of Ethics  \\nThe authors have no ethical conflicts to disclose.  \\nDisclosure Statement  \\nThe authors declare that they have no relevant financial  interests.  \\nReferences  \\n1 Nan X, Xie C, Yu X, Liu J. EGFR TKI as first -line treatment for patients with advanced EGFR mutation -positive \\nnon-small -cell lung cancer. Oncotarget . 2017 Aug;8(43):75712 –26. \\n2 Wang J, Wang B, Chu H, Yao Y. Intrinsic resistance to EGFR tyrosine kinase inhibitors in advanced non -small -\\ncell lung cancer with activating EGFR mutations. OncoTargets Ther . 2016 Jun;9:3711 –26. \\n3 Seto T, Kato T, Nishio M, Goto K, Atagi S, Hosomi Y, et al. Erlotinib alone or with bevacizumab as  first -line \\ntherapy in patients with advanced non -squamous non -small -cell lung cancer harbouring EGFR mutations \\n(JO25567): an open -label, randomised, multicentre, phase 2 study. Lancet Oncol . 2014 Oct;15(11):1236 –44. \\n4 Sequist LV, Waltman BA, Dias -Santagata D, Digumarthy S, Turke AB, Fidias P, et al. Genotypic and \\nhistological evolution of lung cancers acquiring resistance to EGFR inhibitor s. Sci Transl Med . 2011 \\nMar;3(75):75ra26.  \\n5 Bean J, Brennan C, Shih JY, Riely G, Viale A, Wang L, et al. MET amplification occurs with or  without T790M \\nmutations in EGFR mutant lung tumors with acquired resistance to gefitinib or erlotinib. Proc Natl Acad Sci \\nUSA . 2007 Dec;104(52):20932 –7. \\n6 Takeuchi S, Wang W, Li Q, Yamada T, Kita K, Donev IS, et al. Dual inhibition of Met kinase and angiogenesis to \\novercome HGF -induced EGFR -TKI resistance in EGFR mutant lung cancer. Am J Pathol . 2012 \\nSep;181(3):1034 –43. \\n7 Nakade J, Takeuchi S, Nakagawa T, Ishikawa D, Sano T, Nanjo S, et al. Triple inhibition of EGFR, Met, and \\nVEGF suppresses regrowth of HGF -triggered, e rlotinib -resistant lung cancer harboring an EGFR mutation. J \\nThorac Oncol . 2014 Jun;9(6):775 –83. \\n8 Furugaki K, Fukumura J, Iwai T, Yo rozu K, Kurasawa M, Yanagisawa M, et al. Impact of bevacizumab in \\ncombination with erlotinib on EGFR -mutated non -small cell lung cancer xenograft models with T790M \\nmutation or MET amplification. Int J Cancer . 2016 Feb;138(4):1024 –32. \\n9 Scheffler M, Merkelbach -Bruse S, Bos M, Fassunke J, Gardizi M, Michels S, et al. Spatial Tumor Heterogeneity \\nin Lung Cancer with Acquired Epidermal Growth Factor Receptor -Tyrosine Kinase Inhibitor Resistance: \\nTargeting High -Level MET -Amplification and EGFR T790M Mutation Occurring at Different Sites in the Same \\nPatient. J Thorac Oncol . 2015 Jun;10(6):e40 –3. \\n10 Gainor JF, Niederst MJ, Lennerz JK, Dagogo -Jack I, Stevens S, Shaw AT, et al. Dramatic Response to \\nCombinati on Erlotinib and Crizotinib in a Patient with Advanced, EGFR -Mutant Lung Cancer Harboring De \\nNovo MET Amplification. J Thorac Oncol . 2016 Jul;11(7):e83 –5.')),\n",
       " GraphDocument(nodes=[Node(id='Combination Erlotinib And Crizotinib In A Patient With Advanced, Egfr -Mutant Lung Cancer Harboring De Novo Met Amplification', type='Publication', properties={}), Node(id='J Thorac Oncol', type='Journal', properties={}), Node(id='2016 Jul;11(7):E83 –5', type='Date', properties={}), Node(id='11 Furuya N', type='Person', properties={}), Node(id='Fukuhara T', type='Person', properties={}), Node(id='Saito H', type='Person', properties={}), Node(id='Et Al.', type='Persongroup', properties={}), Node(id='Phase Iii Study Comparing Bevacizumab Plus Erlotinib To Erlotinib In Patients With Untreated Nsclc Harboring Activating Egfr Mutations: Nej026', type='Study', properties={}), Node(id='J Clin Oncol', type='Journal', properties={}), Node(id='2018; 36 (Suppl; Abstr 9006)', type='Date', properties={}), Node(id='9006', type='Abstractnumber', properties={})], relationships=[Relationship(source=Node(id='Combination Erlotinib And Crizotinib In A Patient With Advanced, Egfr -Mutant Lung Cancer Harboring De Novo Met Amplification', type='Publication', properties={}), target=Node(id='J Thorac Oncol', type='Journal', properties={}), type='PUBLISHEDIN', properties={}), Relationship(source=Node(id='Combination Erlotinib And Crizotinib In A Patient With Advanced, Egfr -Mutant Lung Cancer Harboring De Novo Met Amplification', type='Publication', properties={}), target=Node(id='2016 Jul;11(7):E83 –5', type='Date', properties={}), type='PUBLISHEDDATE', properties={}), Relationship(source=Node(id='Phase Iii Study Comparing Bevacizumab Plus Erlotinib To Erlotinib In Patients With Untreated Nsclc Harboring Activating Egfr Mutations: Nej026', type='Study', properties={}), target=Node(id='J Clin Oncol', type='Journal', properties={}), type='PUBLISHEDIN', properties={}), Relationship(source=Node(id='Phase Iii Study Comparing Bevacizumab Plus Erlotinib To Erlotinib In Patients With Untreated Nsclc Harboring Activating Egfr Mutations: Nej026', type='Study', properties={}), target=Node(id='2018; 36 (Suppl; Abstr 9006)', type='Date', properties={}), type='PUBLISHEDDATE', properties={}), Relationship(source=Node(id='Phase Iii Study Comparing Bevacizumab Plus Erlotinib To Erlotinib In Patients With Untreated Nsclc Harboring Activating Egfr Mutations: Nej026', type='Study', properties={}), target=Node(id='9006', type='Abstractnumber', properties={}), type='PRESENTEDAS', properties={})], source=Document(metadata={'source': '../dataset/final_data/10.1159@000493088.pdf', 'page': 3}, page_content='Combinati on Erlotinib and Crizotinib in a Patient with Advanced, EGFR -Mutant Lung Cancer Harboring De \\nNovo MET Amplification. J Thorac Oncol . 2016 Jul;11(7):e83 –5. \\n11 Furuya N, Fukuhara T, Saito H, et al. Phase III study comparing bevacizumab plus erlotinib to erlotinib in \\npatients with untreated NSCLC harboring activating EGFR mutations: NEJ026. J Clin Oncol. 2018; 36 (suppl; \\nabstr 9006).')),\n",
       " GraphDocument(nodes=[Node(id='Seki Et Al.', type='Person', properties={}), Node(id='Egfr -Mutated Nsclc Patient', type='Patient', properties={}), Node(id='Bevacizumab', type='Drug', properties={}), Node(id='Erlotinib', type='Drug', properties={}), Node(id='Met Amplification', type='Biological_feature', properties={}), Node(id='Egfr -Tki Treatment', type='Treatment', properties={}), Node(id='Right Hilar Mass', type='Medical_finding', properties={}), Node(id='Lymphangitic Carcinomatosis', type='Medical_finding', properties={}), Node(id='Right Lower Lung Field', type='Anatomical_structure', properties={}), Node(id='Lung Mass', type='Medical_finding', properties={}), Node(id='Posterior Chest Wall', type='Anatomical_structure', properties={}), Node(id='Vertebral Body', type='Anatomical_structure', properties={}), Node(id='Multiple Lymphadenopathy', type='Medical_finding', properties={}), Node(id='Right Pleural Effusion', type='Medical_finding', properties={}), Node(id='Chest X -Ray', type='Medical_imaging_technique', properties={}), Node(id='Chest Ct', type='Medical_imaging_technique', properties={})], relationships=[Relationship(source=Node(id='Seki Et Al.', type='Person', properties={}), target=Node(id='Egfr -Mutated Nsclc Patient', type='Patient', properties={}), type='TREATED', properties={}), Relationship(source=Node(id='Egfr -Mutated Nsclc Patient', type='Patient', properties={}), target=Node(id='Met Amplification', type='Biological_feature', properties={}), type='HAS', properties={}), Relationship(source=Node(id='Egfr -Mutated Nsclc Patient', type='Patient', properties={}), target=Node(id='Egfr -Tki Treatment', type='Treatment', properties={}), type='RECEIVED', properties={}), Relationship(source=Node(id='Egfr -Mutated Nsclc Patient', type='Patient', properties={}), target=Node(id='Right Hilar Mass', type='Medical_finding', properties={}), type='HAS', properties={}), Relationship(source=Node(id='Egfr -Mutated Nsclc Patient', type='Patient', properties={}), target=Node(id='Lymphangitic Carcinomatosis', type='Medical_finding', properties={}), type='HAS', properties={}), Relationship(source=Node(id='Egfr -Mutated Nsclc Patient', type='Patient', properties={}), target=Node(id='Right Lower Lung Field', type='Anatomical_structure', properties={}), type='HAS', properties={}), Relationship(source=Node(id='Egfr -Mutated Nsclc Patient', type='Patient', properties={}), target=Node(id='Lung Mass', type='Medical_finding', properties={}), type='HAS', properties={}), Relationship(source=Node(id='Egfr -Mutated Nsclc Patient', type='Patient', properties={}), target=Node(id='Posterior Chest Wall', type='Anatomical_structure', properties={}), type='HAS', properties={}), Relationship(source=Node(id='Egfr -Mutated Nsclc Patient', type='Patient', properties={}), target=Node(id='Vertebral Body', type='Anatomical_structure', properties={}), type='HAS', properties={}), Relationship(source=Node(id='Egfr -Mutated Nsclc Patient', type='Patient', properties={}), target=Node(id='Multiple Lymphadenopathy', type='Medical_finding', properties={}), type='HAS', properties={}), Relationship(source=Node(id='Egfr -Mutated Nsclc Patient', type='Patient', properties={}), target=Node(id='Right Pleural Effusion', type='Medical_finding', properties={}), type='HAS', properties={}), Relationship(source=Node(id='Egfr -Mutated Nsclc Patient', type='Patient', properties={}), target=Node(id='Bevacizumab', type='Drug', properties={}), type='RECEIVED', properties={}), Relationship(source=Node(id='Egfr -Mutated Nsclc Patient', type='Patient', properties={}), target=Node(id='Erlotinib', type='Drug', properties={}), type='RECEIVED', properties={})], source=Document(metadata={'source': '../dataset/final_data/10.1159@000493088.pdf', 'page': 4}, page_content='Case Rep Oncol 2019;12:91 –97 \\nDOI: 10.1159/000493088  © 2019 The Author(s). Published by S. Karger AG, Basel  \\nwww.karger.com/cro  \\nSeki et al.: Promising Combination Therapy with Bevacizumab and Erlotinib in an EGFR -\\nMutated NSCLC Patient with MET Amplification Who Showed Intrinsic Resistance to \\nInitial EGFR -TKI Therapy  \\n \\n \\n \\n \\n95 \\n \\n \\n \\nFig. 1.  Chest X -ray and chest CT images before initial EGFR -TKI treatment. ( a) Chest X -ray image showed a \\nright hilar mass followed by lymphangitic carcinomatosis in the right lower lung field. ( b) Chest CT image \\nshowed a large lung mass, extending to posterior chest wall and vertebral body, in the right lower lung as \\nwell as multiple lymphadenopathy and right pleural effusion.')),\n",
       " GraphDocument(nodes=[Node(id='Seki Et Al.', type='Person', properties={}), Node(id='Egfr-Mutated Nsclc Patient', type='Patient', properties={}), Node(id='Met Amplification', type='Condition', properties={}), Node(id='Intrinsic Resistance', type='Condition', properties={}), Node(id='Initial Egfr-Tki Therapy', type='Treatment', properties={}), Node(id='Bevacizumab', type='Drug', properties={}), Node(id='Erlotinib', type='Drug', properties={}), Node(id='Gefitinib', type='Drug', properties={}), Node(id='Chest X-Ray', type='Medical_imaging_technique', properties={}), Node(id='Chest Ct', type='Medical_imaging_technique', properties={}), Node(id='Right Hilar Mass', type='Medical_finding', properties={}), Node(id='Lymphangitic Carcinomatosis', type='Medical_finding', properties={}), Node(id='Lung Mass', type='Medical_finding', properties={}), Node(id='Lymphadenopathy', type='Medical_finding', properties={})], relationships=[Relationship(source=Node(id='Seki Et Al.', type='Person', properties={}), target=Node(id='Egfr-Mutated Nsclc Patient', type='Patient', properties={}), type='TREATED', properties={}), Relationship(source=Node(id='Egfr-Mutated Nsclc Patient', type='Patient', properties={}), target=Node(id='Met Amplification', type='Condition', properties={}), type='HAS', properties={}), Relationship(source=Node(id='Egfr-Mutated Nsclc Patient', type='Patient', properties={}), target=Node(id='Intrinsic Resistance', type='Condition', properties={}), type='HAS', properties={}), Relationship(source=Node(id='Egfr-Mutated Nsclc Patient', type='Patient', properties={}), target=Node(id='Initial Egfr-Tki Therapy', type='Treatment', properties={}), type='RECEIVED', properties={}), Relationship(source=Node(id='Egfr-Mutated Nsclc Patient', type='Patient', properties={}), target=Node(id='Bevacizumab', type='Drug', properties={}), type='RECEIVED_COMBINATION_THERAPY_WITH', properties={}), Relationship(source=Node(id='Egfr-Mutated Nsclc Patient', type='Patient', properties={}), target=Node(id='Erlotinib', type='Drug', properties={}), type='RECEIVED_COMBINATION_THERAPY_WITH', properties={}), Relationship(source=Node(id='Egfr-Mutated Nsclc Patient', type='Patient', properties={}), target=Node(id='Gefitinib', type='Drug', properties={}), type='RECEIVED', properties={}), Relationship(source=Node(id='Egfr-Mutated Nsclc Patient', type='Patient', properties={}), target=Node(id='Chest X-Ray', type='Medical_imaging_technique', properties={}), type='HAD', properties={}), Relationship(source=Node(id='Egfr-Mutated Nsclc Patient', type='Patient', properties={}), target=Node(id='Chest Ct', type='Medical_imaging_technique', properties={}), type='HAD', properties={}), Relationship(source=Node(id='Chest X-Ray', type='Medical_imaging_technique', properties={}), target=Node(id='Right Hilar Mass', type='Medical_finding', properties={}), type='SHOWED', properties={}), Relationship(source=Node(id='Chest X-Ray', type='Medical_imaging_technique', properties={}), target=Node(id='Lymphangitic Carcinomatosis', type='Medical_finding', properties={}), type='SHOWED', properties={}), Relationship(source=Node(id='Chest Ct', type='Medical_imaging_technique', properties={}), target=Node(id='Right Hilar Mass', type='Medical_finding', properties={}), type='SHOWED', properties={}), Relationship(source=Node(id='Chest Ct', type='Medical_imaging_technique', properties={}), target=Node(id='Lymphadenopathy', type='Medical_finding', properties={}), type='SHOWED', properties={}), Relationship(source=Node(id='Chest Ct', type='Medical_imaging_technique', properties={}), target=Node(id='Lung Mass', type='Medical_finding', properties={}), type='SHOWED', properties={})], source=Document(metadata={'source': '../dataset/final_data/10.1159@000493088.pdf', 'page': 5}, page_content='Case Rep Oncol 2019;12:91 –97 \\nDOI: 10.1159/000493088  © 2019 The Author(s). Published by S. Karger AG, Basel  \\nwww.karger.com/cro  \\nSeki et al.: Promising Combination Therapy with Bevacizumab and Erlotinib in an EGFR -\\nMutated NSCLC Patient with MET Amplification Who Showed Intrinsic Resistance to \\nInitial EGFR -TKI Therapy  \\n \\n \\n \\n \\n96 \\n \\nFig. 2.  Chest X -ray and chest CT images after 28 days of gefi tinib therapy. ( a) Chest X -ray image showed the \\nincreased right hilar mass and the worsened lymphangitic carcinomatosis. ( b) Chest CT image showed in-\\nterval progression of the lung mass and the lymphadenopathy.')),\n",
       " GraphDocument(nodes=[Node(id='Seki Et Al.', type='Person', properties={}), Node(id='Bevacizumab', type='Drug', properties={}), Node(id='Erlotinib', type='Drug', properties={}), Node(id='Egfr', type='Gene', properties={}), Node(id='Nsclc', type='Disease', properties={}), Node(id='Met', type='Gene', properties={}), Node(id='Egfr-Tki', type='Drug', properties={}), Node(id='Lung Mass', type='Anatomical_structure', properties={}), Node(id='Lymphadenopathy', type='Anatomical_structure', properties={}), Node(id='Cavitation', type='Medical_finding', properties={})], relationships=[Relationship(source=Node(id='Seki Et Al.', type='Person', properties={}), target=Node(id='Bevacizumab', type='Drug', properties={}), type='USED_IN_TREATMENT', properties={}), Relationship(source=Node(id='Seki Et Al.', type='Person', properties={}), target=Node(id='Erlotinib', type='Drug', properties={}), type='USED_IN_TREATMENT', properties={}), Relationship(source=Node(id='Egfr', type='Gene', properties={}), target=Node(id='Egfr-Tki', type='Drug', properties={}), type='TARGET_OF', properties={}), Relationship(source=Node(id='Egfr', type='Gene', properties={}), target=Node(id='Nsclc', type='Disease', properties={}), type='MUTATION_ASSOCIATED_WITH', properties={}), Relationship(source=Node(id='Met', type='Gene', properties={}), target=Node(id='Nsclc', type='Disease', properties={}), type='AMPLIFICATION_ASSOCIATED_WITH', properties={}), Relationship(source=Node(id='Bevacizumab', type='Drug', properties={}), target=Node(id='Lung Mass', type='Anatomical_structure', properties={}), type='DECREASE_SIZE_OF', properties={}), Relationship(source=Node(id='Bevacizumab', type='Drug', properties={}), target=Node(id='Lymphadenopathy', type='Anatomical_structure', properties={}), type='DECREASE_SIZE_OF', properties={}), Relationship(source=Node(id='Bevacizumab', type='Drug', properties={}), target=Node(id='Cavitation', type='Medical_finding', properties={}), type='CAUSE', properties={})], source=Document(metadata={'source': '../dataset/final_data/10.1159@000493088.pdf', 'page': 6}, page_content='Case Rep Oncol 2019;12:91 –97 \\nDOI: 10.1159/000493088  © 2019 The Author(s). Published by S. Karger AG, Basel  \\nwww.karger.com/cro  \\nSeki et al.: Promising Combination Therapy with Bevacizumab and Erlotinib in an EGFR -\\nMutated NSCLC Patient with MET Amplification Who Showed Intrinsic Resistance to \\nInitial EGFR -TKI Therapy  \\n \\n \\n \\n \\n97 \\n \\nFig. 3.  Chest X -ray and chest CT images after 21 days of combination therapy with bevacizumab and erlo-\\ntinib. ( a) Chest X -ray image showed the decreased right hilar mass and the improved lymphangitic carci-\\nnomatosis. ( b) Chest CT image showed interval response of the lung mass and the lymphadenopathy. Es-\\npecially, cavitation of the lung mass as bevacizumab -specific response  was observed.'))]"
      ]
     },
     "execution_count": 3,
     "metadata": {},
     "output_type": "execute_result"
    }
   ],
   "source": [
    "from langchain_experimental.graph_transformers import LLMGraphTransformer\n",
    "\n",
    "llm_transformer = LLMGraphTransformer(llm=llm)\n",
    "\n",
    "graph_docs = llm_transformer.convert_to_graph_documents(pages)\n",
    "\n",
    "graph_docs"
   ]
  },
  {
   "cell_type": "code",
   "execution_count": 4,
   "metadata": {},
   "outputs": [
    {
     "name": "stderr",
     "output_type": "stream",
     "text": [
      "c:\\Users\\Archit\\Desktop\\medic\\.venv\\Lib\\site-packages\\sentence_transformers\\cross_encoder\\CrossEncoder.py:13: TqdmExperimentalWarning: Using `tqdm.autonotebook.tqdm` in notebook mode. Use `tqdm.tqdm` instead to force console mode (e.g. in jupyter console)\n",
      "  from tqdm.autonotebook import tqdm, trange\n",
      "c:\\Users\\Archit\\Desktop\\medic\\.venv\\Lib\\site-packages\\transformers\\tokenization_utils_base.py:1601: FutureWarning: `clean_up_tokenization_spaces` was not set. It will be set to `True` by default. This behavior will be depracted in transformers v4.45, and will be then set to `False` by default. For more details check this issue: https://github.com/huggingface/transformers/issues/31884\n",
      "  warnings.warn(\n"
     ]
    }
   ],
   "source": [
    "from langchain_huggingface import HuggingFaceEmbeddings\n",
    "\n",
    "embeddings_model = HuggingFaceEmbeddings(model_name=\"sentence-transformers/all-mpnet-base-v2\")"
   ]
  },
  {
   "cell_type": "code",
   "execution_count": 5,
   "metadata": {},
   "outputs": [],
   "source": [
    "from langchain.graphs import Neo4jGraph\n",
    "\n",
    "graph = Neo4jGraph()\n",
    "\n",
    "graph.add_graph_documents(\n",
    "    graph_docs,\n",
    "    baseEntityLabel=True,\n",
    "    include_source=True\n",
    ")"
   ]
  },
  {
   "cell_type": "code",
   "execution_count": 6,
   "metadata": {},
   "outputs": [
    {
     "data": {
      "application/vnd.jupyter.widget-view+json": {
       "model_id": "2aaee196393f43b4add4ae5b116fcc58",
       "version_major": 2,
       "version_minor": 0
      },
      "text/plain": [
       "GraphWidget(layout=Layout(height='800px', width='100%'))"
      ]
     },
     "metadata": {},
     "output_type": "display_data"
    }
   ],
   "source": [
    "from neo4j import GraphDatabase\n",
    "from yfiles_jupyter_graphs import GraphWidget\n",
    "\n",
    "default_cypher = \"MATCH (s)-[r:!MENTIONS]->(t) RETURN s,r,t LIMIT 50\"\n",
    "def showGraph(cypher: str = default_cypher):\n",
    "    driver = GraphDatabase.driver(\n",
    "        uri = os.environ[\"NEO4J_URI\"],\n",
    "        auth = (os.environ[\"NEO4J_USERNAME\"], os.environ[\"NEO4J_PASSWORD\"])\n",
    "    )\n",
    "    session = driver.session()\n",
    "    widget = GraphWidget(graph = session.run(cypher).graph())\n",
    "    widget.node_label_mapping = 'id'\n",
    "    return widget\n",
    "\n",
    "showGraph()"
   ]
  },
  {
   "cell_type": "code",
   "execution_count": 8,
   "metadata": {},
   "outputs": [],
   "source": [
    "from langchain_community.vectorstores import Neo4jVector\n",
    "\n",
    "store = Neo4jVector.from_existing_graph(\n",
    "    embeddings_model,\n",
    "    search_type = 'hybrid',\n",
    "    node_label = 'Document',\n",
    "    text_node_properties=['text'],\n",
    "    embedding_node_property='embedding'\n",
    ")\n"
   ]
  },
  {
   "cell_type": "code",
   "execution_count": 9,
   "metadata": {},
   "outputs": [],
   "source": [
    "from langchain.chains import RetrievalQA\n",
    "\n",
    "vector_qa = RetrievalQA.from_chain_type(llm = llm, chain_type='stuff', retriever = store.as_retriever())"
   ]
  },
  {
   "cell_type": "code",
   "execution_count": 11,
   "metadata": {},
   "outputs": [
    {
     "name": "stderr",
     "output_type": "stream",
     "text": [
      "Received notification from DBMS server: {severity: WARNING} {code: Neo.ClientNotification.Statement.FeatureDeprecationWarning} {category: DEPRECATION} {title: This feature is deprecated and will be removed in future versions.} {description: CALL subquery without a variable scope clause is now deprecated. Use CALL () { ... }} {position: line: 1, column: 1, offset: 0} for query: \"CALL { CALL db.index.vector.queryNodes($index, $k, $embedding) YIELD node, score WITH collect({node:node, score:score}) AS nodes, max(score) AS max UNWIND nodes AS n RETURN n.node AS node, (n.score / max) AS score UNION CALL db.index.fulltext.queryNodes($keyword_index, $query, {limit: $k}) YIELD node, score WITH collect({node:node, score:score}) AS nodes, max(score) AS max UNWIND nodes AS n RETURN n.node AS node, (n.score / max) AS score } WITH node, max(score) AS score ORDER BY score DESC LIMIT $k RETURN reduce(str='', k IN ['text'] | str + '\\\\n' + k + ': ' + coalesce(node[k], '')) AS text, node {.*, `embedding`: Null, id: Null, `text`: Null} AS metadata, score\"\n"
     ]
    },
    {
     "name": "stdout",
     "output_type": "stream",
     "text": [
      "The patient's symptoms gradually improved and the tumor size decreased.  \n",
      "\n"
     ]
    }
   ],
   "source": [
    "r = vector_qa.invoke(\n",
    "    {\n",
    "        \"query\": \"What happend to the patient after 2 weeks ?\"\n",
    "    }\n",
    ")\n",
    "print(r[\"result\"])"
   ]
  },
  {
   "cell_type": "code",
   "execution_count": null,
   "metadata": {},
   "outputs": [],
   "source": []
  }
 ],
 "metadata": {
  "kernelspec": {
   "display_name": ".venv",
   "language": "python",
   "name": "python3"
  },
  "language_info": {
   "codemirror_mode": {
    "name": "ipython",
    "version": 3
   },
   "file_extension": ".py",
   "mimetype": "text/x-python",
   "name": "python",
   "nbconvert_exporter": "python",
   "pygments_lexer": "ipython3",
   "version": "3.11.4"
  }
 },
 "nbformat": 4,
 "nbformat_minor": 2
}
