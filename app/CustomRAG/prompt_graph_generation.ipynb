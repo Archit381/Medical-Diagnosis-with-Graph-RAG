{
 "cells": [
  {
   "cell_type": "code",
   "execution_count": 4,
   "metadata": {},
   "outputs": [
    {
     "name": "stdout",
     "output_type": "stream",
     "text": [
      "sagemaker.config INFO - Not applying SDK defaults from location: C:\\ProgramData\\sagemaker\\sagemaker\\config.yaml\n",
      "sagemaker.config INFO - Not applying SDK defaults from location: C:\\Users\\Archit\\AppData\\Local\\sagemaker\\sagemaker\\config.yaml\n"
     ]
    }
   ],
   "source": [
    "from semantic_router.encoders import HuggingFaceEncoder\n",
    "from semantic_chunkers import StatisticalChunker\n",
    "\n",
    "encoder = HuggingFaceEncoder(\n",
    "    name = \"NeuML/pubmedbert-base-embeddings\"\n",
    ")\n",
    "chunker = StatisticalChunker(encoder=encoder)\n"
   ]
  },
  {
   "cell_type": "code",
   "execution_count": 5,
   "metadata": {},
   "outputs": [],
   "source": [
    "from langchain_community.document_loaders import PyPDFLoader\n",
    "from langchain.schema import Document\n",
    "\n",
    "def generate_chunks(file_path: str, chunker)-> list:\n",
    "    \n",
    "    loader = PyPDFLoader(file_path)\n",
    "    pages = loader.load_and_split()\n",
    "\n",
    "    document_text = \"\\n\".join([page.page_content for page in pages])\n",
    "\n",
    "    chunks = chunker(docs=[document_text])\n",
    "    chunked_data = []\n",
    "\n",
    "    for chunk in chunks[0]:  \n",
    "        combined_chunk = \" \".join(chunk.splits)  \n",
    "        chunked_data.append(Document(page_content=combined_chunk)) \n",
    "\n",
    "    return chunked_data"
   ]
  },
  {
   "cell_type": "code",
   "execution_count": 1,
   "metadata": {},
   "outputs": [],
   "source": [
    "entity_extraction_prompt = '''\n",
    "\n",
    "Given a text document that is potentially relevant to this activity and a list of entity types, identify all entities of those types from the text and all relationships among the identified entities. Dont give me any code and dont mention 'json' at the top of the response.\n",
    "There should not be any extra output (even a single word) besides the output required\n",
    "\n",
    "-Steps-\n",
    "1. Identify all entities. For each identified entity, extract the following information:\n",
    "- entity_name: Name of the entity, capitalized\n",
    "- entity_type: Type of the entity, lowercased\n",
    "- entity_description: Comprehensive description of the entity's attributes and activities\n",
    "Format each entity as (\"entity\"{tuple_delimiter}<entity_name>{tuple_delimiter}<entity_type>{tuple_delimiter}<entity_description>\n",
    "\n",
    "2. From the entities identified in step 1, identify all pairs of (source_entity, target_entity) that are *clearly related* to each other.\n",
    "For each pair of related entities, extract the following information:\n",
    "- source_entity: name of the source entity, as identified in step 1\n",
    "- target_entity: name of the target entity, as identified in step 1\n",
    "- relationship_description: explanation as to why you think the source entity and the target entity are related to each other\n",
    "- relationship_strength: a numeric score indicating strength of the relationship between the source entity and target entity\n",
    " Format each relationship as (\"relationship\"{tuple_delimiter}<source_entity>{tuple_delimiter}<target_entity>{tuple_delimiter}<relationship_description>{tuple_delimiter}<relationship_strength>)\n",
    "\n",
    "3. Return output in English as a single list of all the entities and relationships identified in steps 1 and 2. Use **{record_delimiter}** as the list delimiter.\n",
    "\n",
    "4. When finished, output {completion_delimiter}\n",
    "\n",
    "######################\n",
    "-Examples-\n",
    "######################\n",
    "Example 1:\n",
    "\n",
    "Entity_types: [person, technology, mission, organization, location]\n",
    "Text:\n",
    "while Alex clenched his jaw, the buzz of frustration dull against the backdrop of Taylor's authoritarian certainty. It was this competitive undercurrent that kept him alert, the sense that his and Jordan's shared commitment to discovery was an unspoken rebellion against Cruz's narrowing vision of control and order.\n",
    "\n",
    "Then Taylor did something unexpected. They paused beside Jordan and, for a moment, observed the device with something akin to reverence. “If this tech can be understood...\" Taylor said, their voice quieter, \"It could change the game for us. For all of us.”\n",
    "\n",
    "The underlying dismissal earlier seemed to falter, replaced by a glimpse of reluctant respect for the gravity of what lay in their hands. Jordan looked up, and for a fleeting heartbeat, their eyes locked with Taylor's, a wordless clash of wills softening into an uneasy truce.\n",
    "\n",
    "It was a small transformation, barely perceptible, but one that Alex noted with an inward nod. They had all been brought here by different paths\n",
    "################\n",
    "Output:\n",
    "(\"entity\"{tuple_delimiter}\"Alex\"{tuple_delimiter}\"person\"{tuple_delimiter}\"Alex is a character who experiences frustration and is observant of the dynamics among other characters.\"){record_delimiter}\n",
    "(\"entity\"{tuple_delimiter}\"Taylor\"{tuple_delimiter}\"person\"{tuple_delimiter}\"Taylor is portrayed with authoritarian certainty and shows a moment of reverence towards a device, indicating a change in perspective.\"){record_delimiter}\n",
    "(\"entity\"{tuple_delimiter}\"Jordan\"{tuple_delimiter}\"person\"{tuple_delimiter}\"Jordan shares a commitment to discovery and has a significant interaction with Taylor regarding a device.\"){record_delimiter}\n",
    "(\"entity\"{tuple_delimiter}\"Cruz\"{tuple_delimiter}\"person\"{tuple_delimiter}\"Cruz is associated with a vision of control and order, influencing the dynamics among other characters.\"){record_delimiter}\n",
    "(\"entity\"{tuple_delimiter}\"The Device\"{tuple_delimiter}\"technology\"{tuple_delimiter}\"The Device is central to the story, with potential game-changing implications, and is revered by Taylor.\"){record_delimiter}\n",
    "(\"relationship\"{tuple_delimiter}\"Alex\"{tuple_delimiter}\"Taylor\"{tuple_delimiter}\"Alex is affected by Taylor's authoritarian certainty and observes changes in Taylor's attitude towards the device.\"{tuple_delimiter}7){record_delimiter}\n",
    "(\"relationship\"{tuple_delimiter}\"Alex\"{tuple_delimiter}\"Jordan\"{tuple_delimiter}\"Alex and Jordan share a commitment to discovery, which contrasts with Cruz's vision.\"{tuple_delimiter}6){record_delimiter}\n",
    "(\"relationship\"{tuple_delimiter}\"Taylor\"{tuple_delimiter}\"Jordan\"{tuple_delimiter}\"Taylor and Jordan interact directly regarding the device, leading to a moment of mutual respect and an uneasy truce.\"{tuple_delimiter}8){record_delimiter}\n",
    "(\"relationship\"{tuple_delimiter}\"Jordan\"{tuple_delimiter}\"Cruz\"{tuple_delimiter}\"Jordan's commitment to discovery is in rebellion against Cruz's vision of control and order.\"{tuple_delimiter}5){record_delimiter}\n",
    "(\"relationship\"{tuple_delimiter}\"Taylor\"{tuple_delimiter}\"The Device\"{tuple_delimiter}\"Taylor shows reverence towards the device, indicating its importance and potential impact.\"{tuple_delimiter}9){completion_delimiter}\n",
    "#############################\n",
    "Example 2:\n",
    "\n",
    "Entity_types: [person, technology, mission, organization, location]\n",
    "Text:\n",
    "They were no longer mere operatives; they had become guardians of a threshold, keepers of a message from a realm beyond stars and stripes. This elevation in their mission could not be shackled by regulations and established protocols—it demanded a new perspective, a new resolve.\n",
    "\n",
    "Tension threaded through the dialogue of beeps and static as communications with Washington buzzed in the background. The team stood, a portentous air enveloping them. It was clear that the decisions they made in the ensuing hours could redefine humanity's place in the cosmos or condemn them to ignorance and potential peril.\n",
    "\n",
    "Their connection to the stars solidified, the group moved to address the crystallizing warning, shifting from passive recipients to active participants. Mercer's latter instincts gained precedence— the team's mandate had evolved, no longer solely to observe and report but to interact and prepare. A metamorphosis had begun, and Operation: Dulce hummed with the newfound frequency of their daring, a tone set not by the earthly\n",
    "#############\n",
    "Output:\n",
    "(\"entity\"{tuple_delimiter}\"Washington\"{tuple_delimiter}\"location\"{tuple_delimiter}\"Washington is a location where communications are being received, indicating its importance in the decision-making process.\"){record_delimiter}\n",
    "(\"entity\"{tuple_delimiter}\"Operation: Dulce\"{tuple_delimiter}\"mission\"{tuple_delimiter}\"Operation: Dulce is described as a mission that has evolved to interact and prepare, indicating a significant shift in objectives and activities.\"){record_delimiter}\n",
    "(\"entity\"{tuple_delimiter}\"The team\"{tuple_delimiter}\"organization\"{tuple_delimiter}\"The team is portrayed as a group of individuals who have transitioned from passive observers to active participants in a mission, showing a dynamic change in their role.\"){record_delimiter}\n",
    "(\"relationship\"{tuple_delimiter}\"The team\"{tuple_delimiter}\"Washington\"{tuple_delimiter}\"The team receives communications from Washington, which influences their decision-making process.\"{tuple_delimiter}7){record_delimiter}\n",
    "(\"relationship\"{tuple_delimiter}\"The team\"{tuple_delimiter}\"Operation: Dulce\"{tuple_delimiter}\"The team is directly involved in Operation: Dulce, executing its evolved objectives and activities.\"{tuple_delimiter}9){completion_delimiter}\n",
    "#############################\n",
    "Example 3:\n",
    "\n",
    "Entity_types: [person, role, technology, organization, event, location, concept]\n",
    "Text:\n",
    "their voice slicing through the buzz of activity. \"Control may be an illusion when facing an intelligence that literally writes its own rules,\" they stated stoically, casting a watchful eye over the flurry of data.\n",
    "\n",
    "\"It's like it's learning to communicate,\" offered Sam Rivera from a nearby interface, their youthful energy boding a mix of awe and anxiety. \"This gives talking to strangers' a whole new meaning.\"\n",
    "\n",
    "Alex surveyed his team—each face a study in concentration, determination, and not a small measure of trepidation. \"This might well be our first contact,\" he acknowledged, \"And we need to be ready for whatever answers back.\"\n",
    "\n",
    "Together, they stood on the edge of the unknown, forging humanity's response to a message from the heavens. The ensuing silence was palpable—a collective introspection about their role in this grand cosmic play, one that could rewrite human history.\n",
    "\n",
    "The encrypted dialogue continued to unfold, its intricate patterns showing an almost uncanny anticipation\n",
    "#############\n",
    "Output:\n",
    "(\"entity\"{tuple_delimiter}\"Sam Rivera\"{tuple_delimiter}\"person\"{tuple_delimiter}\"Sam Rivera is a member of a team working on communicating with an unknown intelligence, showing a mix of awe and anxiety.\"){record_delimiter}\n",
    "(\"entity\"{tuple_delimiter}\"Alex\"{tuple_delimiter}\"person\"{tuple_delimiter}\"Alex is the leader of a team attempting first contact with an unknown intelligence, acknowledging the significance of their task.\"){record_delimiter}\n",
    "(\"entity\"{tuple_delimiter}\"Control\"{tuple_delimiter}\"concept\"{tuple_delimiter}\"Control refers to the ability to manage or govern, which is challenged by an intelligence that writes its own rules.\"){record_delimiter}\n",
    "(\"entity\"{tuple_delimiter}\"Intelligence\"{tuple_delimiter}\"concept\"{tuple_delimiter}\"Intelligence here refers to an unknown entity capable of writing its own rules and learning to communicate.\"){record_delimiter}\n",
    "(\"entity\"{tuple_delimiter}\"First Contact\"{tuple_delimiter}\"event\"{tuple_delimiter}\"First Contact is the potential initial communication between humanity and an unknown intelligence.\"){record_delimiter}\n",
    "(\"entity\"{tuple_delimiter}\"Humanity's Response\"{tuple_delimiter}\"event\"{tuple_delimiter}\"Humanity's Response is the collective action taken by Alex's team in response to a message from an unknown intelligence.\"){record_delimiter}\n",
    "(\"relationship\"{tuple_delimiter}\"Sam Rivera\"{tuple_delimiter}\"Intelligence\"{tuple_delimiter}\"Sam Rivera is directly involved in the process of learning to communicate with the unknown intelligence.\"{tuple_delimiter}9){record_delimiter}\n",
    "(\"relationship\"{tuple_delimiter}\"Alex\"{tuple_delimiter}\"First Contact\"{tuple_delimiter}\"Alex leads the team that might be making the First Contact with the unknown intelligence.\"{tuple_delimiter}10){record_delimiter}\n",
    "(\"relationship\"{tuple_delimiter}\"Alex\"{tuple_delimiter}\"Humanity's Response\"{tuple_delimiter}\"Alex and his team are the key figures in Humanity's Response to the unknown intelligence.\"{tuple_delimiter}8){record_delimiter}\n",
    "(\"relationship\"{tuple_delimiter}\"Control\"{tuple_delimiter}\"Intelligence\"{tuple_delimiter}\"The concept of Control is challenged by the Intelligence that writes its own rules.\"{tuple_delimiter}7){completion_delimiter}\n",
    "#############################\n",
    "\n",
    "When you give output dont mention anything like 'Here is the list of entities and relationships extracted from the text:'. Just give the response straight away\n",
    "\n",
    "\n",
    "-Real Data-\n",
    "######################\n",
    "Text: {input_text}\n",
    "######################\n",
    "Output:\n",
    "\n",
    "'''"
   ]
  },
  {
   "cell_type": "code",
   "execution_count": 2,
   "metadata": {},
   "outputs": [
    {
     "name": "stderr",
     "output_type": "stream",
     "text": [
      "C:\\Users\\Archit\\AppData\\Local\\Temp\\ipykernel_44212\\3492309176.py:20: LangChainDeprecationWarning: The class `LLMChain` was deprecated in LangChain 0.1.17 and will be removed in 1.0. Use :meth:`~RunnableSequence, e.g., `prompt | llm`` instead.\n",
      "  query_chain = LLMChain(\n"
     ]
    }
   ],
   "source": [
    "from langchain_core.prompts import PromptTemplate\n",
    "from langchain.chains import LLMChain\n",
    "from langchain_groq import ChatGroq\n",
    "from langchain_ollama import ChatOllama\n",
    "import os\n",
    "from dotenv import load_dotenv\n",
    "\n",
    "load_dotenv()\n",
    "\n",
    "\n",
    "prompt = PromptTemplate(\n",
    "    template = entity_extraction_prompt\n",
    "    \n",
    ")\n",
    "\n",
    "llm_ollama = ChatOllama(\n",
    "    model = \"gemma2:9b\",  \n",
    ")\n",
    "\n",
    "query_chain = LLMChain(\n",
    "    llm = llm_ollama,\n",
    "    prompt = prompt\n",
    ")"
   ]
  },
  {
   "cell_type": "code",
   "execution_count": 3,
   "metadata": {},
   "outputs": [],
   "source": [
    "def parse_llm_output(text: str)-> dict:\n",
    "    \n",
    "    list_ = text.split(\"\\n\")\n",
    "    entities = []\n",
    "    relationships = []\n",
    "\n",
    "    for i,item in enumerate(list_):\n",
    "        \n",
    "        if len(item)>0:\n",
    "\n",
    "            if item[2:8] == \"entity\":\n",
    "                temp = item[10:-6].split(\"|\")\n",
    "\n",
    "                entity_name = temp[0][1:-1]\n",
    "                entity_type = temp[1][1:-1]\n",
    "                entity_desc = temp[2][1:-1]\n",
    "\n",
    "                entities.append({\n",
    "                    'entity_name': entity_name,\n",
    "                    'entity_type': entity_type,\n",
    "                    'entity_desc': entity_desc\n",
    "                })\n",
    "            \n",
    "            elif item[2:14] == \"relationship\":\n",
    "                temp = item[16:-8].split(\"|\")\n",
    "\n",
    "                source_entity = temp[0][1:-1]\n",
    "                target_entity = temp[1][1:-1]\n",
    "                relationship_desc = temp[2][1:-1]\n",
    "\n",
    "                relationships.append({\n",
    "                    'source_entity': source_entity,\n",
    "                    'target_entity': target_entity,\n",
    "                    'relationship_desc': relationship_desc\n",
    "                })\n",
    "        \n",
    "    return {\n",
    "        'id': 'chunk_1',\n",
    "        'entities': entities,\n",
    "        'relationships': relationships \n",
    "    }\n"
   ]
  },
  {
   "cell_type": "code",
   "execution_count": 6,
   "metadata": {},
   "outputs": [
    {
     "name": "stderr",
     "output_type": "stream",
     "text": [
      "\u001b[32m2024-10-16 06:23:35 INFO semantic_chunkers.utils.logger Single document exceeds the maximum token limit of 300. Splitting to sentences before semantically merging.\u001b[0m\n"
     ]
    },
    {
     "data": {
      "application/vnd.jupyter.widget-view+json": {
       "model_id": "cb4aff554b024ebda4ebaa12949c1390",
       "version_major": 2,
       "version_minor": 0
      },
      "text/plain": [
       "  0%|          | 0/357 [00:00<?, ?it/s]"
      ]
     },
     "metadata": {},
     "output_type": "display_data"
    },
    {
     "name": "stderr",
     "output_type": "stream",
     "text": [
      "Asking to truncate to max_length but no maximum length is provided and the model has no predefined maximum length. Default to no truncation.\n",
      "c:\\Users\\Archit\\Desktop\\medic\\.venv\\Lib\\site-packages\\transformers\\models\\bert\\modeling_bert.py:439: UserWarning: 1Torch was not compiled with flash attention. (Triggered internally at C:\\actions-runner\\_work\\pytorch\\pytorch\\builder\\windows\\pytorch\\aten\\src\\ATen\\native\\transformers\\cuda\\sdp_utils.cpp:555.)\n",
      "  attn_output = torch.nn.functional.scaled_dot_product_attention(\n"
     ]
    }
   ],
   "source": [
    "chunked_data = generate_chunks(\"../../dataset/pdfs/anesthesia/2.pdf\", chunker)"
   ]
  },
  {
   "cell_type": "code",
   "execution_count": 7,
   "metadata": {},
   "outputs": [],
   "source": [
    "query = chunked_data[6].page_content \n",
    "\n",
    "response = query_chain.invoke({\n",
    "    'completion_delimiter': '<COMP>', \n",
    "    'tuple_delimiter': '|',\n",
    "    'record_delimiter': '<END>',\n",
    "    'input_text': query\n",
    "})\n"
   ]
  },
  {
   "cell_type": "code",
   "execution_count": 10,
   "metadata": {},
   "outputs": [],
   "source": [
    "parsed_data = parse_llm_output(response['text'])"
   ]
  },
  {
   "cell_type": "code",
   "execution_count": null,
   "metadata": {},
   "outputs": [],
   "source": []
  }
 ],
 "metadata": {
  "kernelspec": {
   "display_name": ".venv",
   "language": "python",
   "name": "python3"
  },
  "language_info": {
   "codemirror_mode": {
    "name": "ipython",
    "version": 3
   },
   "file_extension": ".py",
   "mimetype": "text/x-python",
   "name": "python",
   "nbconvert_exporter": "python",
   "pygments_lexer": "ipython3",
   "version": "3.11.4"
  }
 },
 "nbformat": 4,
 "nbformat_minor": 2
}
