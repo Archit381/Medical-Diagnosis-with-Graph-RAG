{
 "cells": [
  {
   "cell_type": "code",
   "execution_count": 4,
   "metadata": {},
   "outputs": [
    {
     "name": "stdout",
     "output_type": "stream",
     "text": [
      "sagemaker.config INFO - Not applying SDK defaults from location: C:\\ProgramData\\sagemaker\\sagemaker\\config.yaml\n",
      "sagemaker.config INFO - Not applying SDK defaults from location: C:\\Users\\Archit\\AppData\\Local\\sagemaker\\sagemaker\\config.yaml\n"
     ]
    }
   ],
   "source": [
    "from semantic_router.encoders import HuggingFaceEncoder\n",
    "from semantic_chunkers import StatisticalChunker\n",
    "\n",
    "encoder = HuggingFaceEncoder(\n",
    "    name = \"NeuML/pubmedbert-base-embeddings\"\n",
    ")\n",
    "chunker = StatisticalChunker(encoder=encoder)\n"
   ]
  },
  {
   "cell_type": "code",
   "execution_count": 5,
   "metadata": {},
   "outputs": [],
   "source": [
    "from langchain_community.document_loaders import PyPDFLoader\n",
    "from langchain.schema import Document\n",
    "\n",
    "def generate_chunks(file_path: str, chunker)-> list:\n",
    "    \n",
    "    loader = PyPDFLoader(file_path)\n",
    "    pages = loader.load_and_split()\n",
    "\n",
    "    document_text = \"\\n\".join([page.page_content for page in pages])\n",
    "\n",
    "    chunks = chunker(docs=[document_text])\n",
    "    chunked_data = []\n",
    "\n",
    "    for chunk in chunks[0]:  \n",
    "        combined_chunk = \" \".join(chunk.splits)  \n",
    "        chunked_data.append(Document(page_content=combined_chunk)) \n",
    "\n",
    "    return chunked_data"
   ]
  },
  {
   "cell_type": "code",
   "execution_count": 6,
   "metadata": {},
   "outputs": [
    {
     "name": "stderr",
     "output_type": "stream",
     "text": [
      "\u001b[32m2024-10-16 05:48:30 INFO semantic_chunkers.utils.logger Single document exceeds the maximum token limit of 300. Splitting to sentences before semantically merging.\u001b[0m\n"
     ]
    },
    {
     "data": {
      "application/vnd.jupyter.widget-view+json": {
       "model_id": "493b926a53a74b59a2b56afc0f83fefb",
       "version_major": 2,
       "version_minor": 0
      },
      "text/plain": [
       "  0%|          | 0/357 [00:00<?, ?it/s]"
      ]
     },
     "metadata": {},
     "output_type": "display_data"
    },
    {
     "name": "stderr",
     "output_type": "stream",
     "text": [
      "Asking to truncate to max_length but no maximum length is provided and the model has no predefined maximum length. Default to no truncation.\n",
      "c:\\Users\\Archit\\Desktop\\medic\\.venv\\Lib\\site-packages\\transformers\\models\\bert\\modeling_bert.py:439: UserWarning: 1Torch was not compiled with flash attention. (Triggered internally at C:\\actions-runner\\_work\\pytorch\\pytorch\\builder\\windows\\pytorch\\aten\\src\\ATen\\native\\transformers\\cuda\\sdp_utils.cpp:555.)\n",
      "  attn_output = torch.nn.functional.scaled_dot_product_attention(\n"
     ]
    }
   ],
   "source": [
    "chunked_data = generate_chunks(\"../../dataset/pdfs/anesthesia/2.pdf\", chunker)"
   ]
  },
  {
   "cell_type": "code",
   "execution_count": 1,
   "metadata": {},
   "outputs": [],
   "source": [
    "from langchain.graphs import Neo4jGraph\n",
    "from dotenv import load_dotenv\n",
    "import os \n",
    "\n",
    "load_dotenv()\n",
    "\n",
    "graph = Neo4jGraph(\n",
    "    url = 'neo4j+s://2e177e83.databases.neo4j.io',\n",
    "    username = os.getenv('NEO4J_USERNAME'),\n",
    "    password = os.getenv('NEO4J_PASSWORD'),\n",
    "\n",
    ")"
   ]
  },
  {
   "cell_type": "code",
   "execution_count": 2,
   "metadata": {},
   "outputs": [],
   "source": [
    "import json\n",
    "\n",
    "with open('2.json', 'r') as file:\n",
    "\n",
    "    data = json.load(file)"
   ]
  },
  {
   "cell_type": "code",
   "execution_count": 8,
   "metadata": {},
   "outputs": [],
   "source": [
    "from langchain.graphs.graph_document import GraphDocument, Node, Relationship\n",
    "from langchain.schema import Document\n",
    "\n",
    "graph_docs = []\n",
    "\n",
    "for i, chunk in enumerate(data):\n",
    "\n",
    "    node_list = []\n",
    "\n",
    "    for node in chunk['nodes']:\n",
    "        node = Node(id=node['id'], type=node['type'], properties = node['properties'])\n",
    "        node_list.append(node)\n",
    "\n",
    "\n",
    "    relationship_list  = []\n",
    "\n",
    "    source_doc = Document(page_content = chunked_data[i].page_content, metadata = chunked_data[i].metadata)\n",
    "\n",
    "\n",
    "    temp_doc = GraphDocument(\n",
    "        nodes =  node_list,\n",
    "        relationships = relationship_list,\n",
    "        source = source_doc\n",
    "        \n",
    "    )\n",
    "\n",
    "    graph_docs.append(temp_doc)"
   ]
  },
  {
   "cell_type": "code",
   "execution_count": 9,
   "metadata": {},
   "outputs": [],
   "source": [
    "graph.add_graph_documents(\n",
    "    graph_docs,\n",
    "    baseEntityLabel=True,\n",
    "    include_source=True\n",
    ")"
   ]
  },
  {
   "cell_type": "code",
   "execution_count": null,
   "metadata": {},
   "outputs": [],
   "source": []
  }
 ],
 "metadata": {
  "kernelspec": {
   "display_name": ".venv",
   "language": "python",
   "name": "python3"
  },
  "language_info": {
   "codemirror_mode": {
    "name": "ipython",
    "version": 3
   },
   "file_extension": ".py",
   "mimetype": "text/x-python",
   "name": "python",
   "nbconvert_exporter": "python",
   "pygments_lexer": "ipython3",
   "version": "3.11.4"
  }
 },
 "nbformat": 4,
 "nbformat_minor": 2
}
